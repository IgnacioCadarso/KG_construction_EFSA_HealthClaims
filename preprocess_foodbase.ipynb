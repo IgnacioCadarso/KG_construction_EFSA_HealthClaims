{
 "cells": [
  {
   "cell_type": "code",
   "execution_count": 1,
   "metadata": {
    "collapsed": true
   },
   "outputs": [],
   "source": [
    "import pandas as pd\n",
    "from bioc import biocxml\n",
    "import xml.etree.ElementTree as et"
   ]
  },
  {
   "cell_type": "code",
   "execution_count": 57,
   "outputs": [
    {
     "data": {
      "text/plain": "    DocumentID               Category  \\\n0  0recipe1006  Appetizers and snacks   \n1  0recipe1006  Appetizers and snacks   \n2  0recipe1006  Appetizers and snacks   \n3  0recipe1006  Appetizers and snacks   \n4  0recipe1006  Appetizers and snacks   \n5  0recipe1006  Appetizers and snacks   \n6  0recipe1006  Appetizers and snacks   \n7  0recipe1006  Appetizers and snacks   \n8  0recipe1006  Appetizers and snacks   \n9  0recipe1013  Appetizers and snacks   \n\n                                           Full_text annotation_id  \\\n0  \\n\\t\\tMix the cream cheese, beef, olives, onio...             1   \n1  \\n\\t\\tMix the cream cheese, beef, olives, onio...             2   \n2  \\n\\t\\tMix the cream cheese, beef, olives, onio...             3   \n3  \\n\\t\\tMix the cream cheese, beef, olives, onio...             4   \n4  \\n\\t\\tMix the cream cheese, beef, olives, onio...             5   \n5  \\n\\t\\tMix the cream cheese, beef, olives, onio...             6   \n6  \\n\\t\\tMix the cream cheese, beef, olives, onio...             7   \n7  \\n\\t\\tMix the cream cheese, beef, olives, onio...             8   \n8  \\n\\t\\tMix the cream cheese, beef, olives, onio...             9   \n9  \\n\\t\\tPreheat oven to 275 degrees F (135 degre...             1   \n\n        annotation_text  offset  length  \n0          cream cheese       3      12  \n1                  beef       6       4  \n2                olives       8       6  \n3                 onion      10       5  \n4  Worcestershire sauce      13      20  \n5               walnuts      63       7  \n6           cheese ball      67      11  \n7               walnuts      71       7  \n8           cheese ball      78      11  \n9      artichoke hearts      20      16  ",
      "text/html": "<div>\n<style scoped>\n    .dataframe tbody tr th:only-of-type {\n        vertical-align: middle;\n    }\n\n    .dataframe tbody tr th {\n        vertical-align: top;\n    }\n\n    .dataframe thead th {\n        text-align: right;\n    }\n</style>\n<table border=\"1\" class=\"dataframe\">\n  <thead>\n    <tr style=\"text-align: right;\">\n      <th></th>\n      <th>DocumentID</th>\n      <th>Category</th>\n      <th>Full_text</th>\n      <th>annotation_id</th>\n      <th>annotation_text</th>\n      <th>offset</th>\n      <th>length</th>\n    </tr>\n  </thead>\n  <tbody>\n    <tr>\n      <th>0</th>\n      <td>0recipe1006</td>\n      <td>Appetizers and snacks</td>\n      <td>\\n\\t\\tMix the cream cheese, beef, olives, onio...</td>\n      <td>1</td>\n      <td>cream cheese</td>\n      <td>3</td>\n      <td>12</td>\n    </tr>\n    <tr>\n      <th>1</th>\n      <td>0recipe1006</td>\n      <td>Appetizers and snacks</td>\n      <td>\\n\\t\\tMix the cream cheese, beef, olives, onio...</td>\n      <td>2</td>\n      <td>beef</td>\n      <td>6</td>\n      <td>4</td>\n    </tr>\n    <tr>\n      <th>2</th>\n      <td>0recipe1006</td>\n      <td>Appetizers and snacks</td>\n      <td>\\n\\t\\tMix the cream cheese, beef, olives, onio...</td>\n      <td>3</td>\n      <td>olives</td>\n      <td>8</td>\n      <td>6</td>\n    </tr>\n    <tr>\n      <th>3</th>\n      <td>0recipe1006</td>\n      <td>Appetizers and snacks</td>\n      <td>\\n\\t\\tMix the cream cheese, beef, olives, onio...</td>\n      <td>4</td>\n      <td>onion</td>\n      <td>10</td>\n      <td>5</td>\n    </tr>\n    <tr>\n      <th>4</th>\n      <td>0recipe1006</td>\n      <td>Appetizers and snacks</td>\n      <td>\\n\\t\\tMix the cream cheese, beef, olives, onio...</td>\n      <td>5</td>\n      <td>Worcestershire sauce</td>\n      <td>13</td>\n      <td>20</td>\n    </tr>\n    <tr>\n      <th>5</th>\n      <td>0recipe1006</td>\n      <td>Appetizers and snacks</td>\n      <td>\\n\\t\\tMix the cream cheese, beef, olives, onio...</td>\n      <td>6</td>\n      <td>walnuts</td>\n      <td>63</td>\n      <td>7</td>\n    </tr>\n    <tr>\n      <th>6</th>\n      <td>0recipe1006</td>\n      <td>Appetizers and snacks</td>\n      <td>\\n\\t\\tMix the cream cheese, beef, olives, onio...</td>\n      <td>7</td>\n      <td>cheese ball</td>\n      <td>67</td>\n      <td>11</td>\n    </tr>\n    <tr>\n      <th>7</th>\n      <td>0recipe1006</td>\n      <td>Appetizers and snacks</td>\n      <td>\\n\\t\\tMix the cream cheese, beef, olives, onio...</td>\n      <td>8</td>\n      <td>walnuts</td>\n      <td>71</td>\n      <td>7</td>\n    </tr>\n    <tr>\n      <th>8</th>\n      <td>0recipe1006</td>\n      <td>Appetizers and snacks</td>\n      <td>\\n\\t\\tMix the cream cheese, beef, olives, onio...</td>\n      <td>9</td>\n      <td>cheese ball</td>\n      <td>78</td>\n      <td>11</td>\n    </tr>\n    <tr>\n      <th>9</th>\n      <td>0recipe1013</td>\n      <td>Appetizers and snacks</td>\n      <td>\\n\\t\\tPreheat oven to 275 degrees F (135 degre...</td>\n      <td>1</td>\n      <td>artichoke hearts</td>\n      <td>20</td>\n      <td>16</td>\n    </tr>\n  </tbody>\n</table>\n</div>"
     },
     "execution_count": 57,
     "metadata": {},
     "output_type": "execute_result"
    }
   ],
   "source": [
    "with biocxml.iterparse(\"data/FoodBase_curated.xml\") as reader:\n",
    "    collection_info = reader.get_collection_info()\n",
    "    data = []\n",
    "    for document in reader:\n",
    "        id = document.id\n",
    "        category = document.infons['category']\n",
    "        full_text = document.infons['full_text']\n",
    "        annotations = document.annotations\n",
    "        for annotation in annotations:\n",
    "            offset = annotation.locations[0].offset\n",
    "            length = annotation.locations[0].length\n",
    "            row = [id,category,full_text,annotation.id,annotation.text,offset,length]\n",
    "            data.append(row)\n",
    "\n",
    "df = pd.DataFrame(data, columns=['DocumentID','Category',\"Full_text\",\"annotation_id\",\"annotation_text\",\"offset\",\"length\"])\n",
    "df.head(10)"
   ],
   "metadata": {
    "collapsed": false
   }
  },
  {
   "cell_type": "code",
   "execution_count": 54,
   "outputs": [],
   "source": [
    "df.to_csv(\"data/FoodBaseCurated.csv\")"
   ],
   "metadata": {
    "collapsed": false
   }
  },
  {
   "cell_type": "code",
   "execution_count": null,
   "outputs": [],
   "source": [],
   "metadata": {
    "collapsed": false
   }
  }
 ],
 "metadata": {
  "kernelspec": {
   "display_name": "Python 3",
   "language": "python",
   "name": "python3"
  },
  "language_info": {
   "codemirror_mode": {
    "name": "ipython",
    "version": 2
   },
   "file_extension": ".py",
   "mimetype": "text/x-python",
   "name": "python",
   "nbconvert_exporter": "python",
   "pygments_lexer": "ipython2",
   "version": "2.7.6"
  }
 },
 "nbformat": 4,
 "nbformat_minor": 0
}
