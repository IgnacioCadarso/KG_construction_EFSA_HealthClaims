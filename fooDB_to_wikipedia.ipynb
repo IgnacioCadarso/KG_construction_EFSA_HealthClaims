{
 "cells": [
  {
   "cell_type": "markdown",
   "source": [
    "This notebook is used to extract the wikipedia urls for the food ontology terms in the ClaimsKG dataset."
   ],
   "metadata": {
    "collapsed": false
   }
  },
  {
   "cell_type": "code",
   "execution_count": 17,
   "outputs": [
    {
     "name": "stdout",
     "output_type": "stream",
     "text": [
      "260\n"
     ]
    },
    {
     "data": {
      "text/plain": "                                               Claim  \\\n0  ALA contributes to the maintenance of normal b...   \n1  Activated charcoal contributes to reducing exe...   \n2  Barley grain fibre contributes to an increase ...   \n3  Beta-glucans contribute to the maintenance of ...   \n4  Betaine contributes to normal homocysteine met...   \n\n                         Food                  Phenotype  \\\n0  Alpha-linolenic acid (ALA)   Normal blood cholesterol   \n1          Activated charcoal       Excessive flatulence   \n2          Barley grain fibre    Increase in faecal bulk   \n3                Beta-glucans   Normal blood cholesterol   \n4                     Betaine  Normal blood homocysteine   \n\n         Relationship-effect                    Food Ontology Term  \n0  Maintenance of a function  https://foodb.ca/compounds/FDB012462  \n1       Enhancing a function  https://foodb.ca/compounds/FDB008898  \n2       Enhancing a function      https://foodb.ca/foods/FOOD00088  \n3  Maintenance of a function  https://foodb.ca/compounds/FDB005762  \n4  Maintenance of a function  https://foodb.ca/compounds/FDB009020  ",
      "text/html": "<div>\n<style scoped>\n    .dataframe tbody tr th:only-of-type {\n        vertical-align: middle;\n    }\n\n    .dataframe tbody tr th {\n        vertical-align: top;\n    }\n\n    .dataframe thead th {\n        text-align: right;\n    }\n</style>\n<table border=\"1\" class=\"dataframe\">\n  <thead>\n    <tr style=\"text-align: right;\">\n      <th></th>\n      <th>Claim</th>\n      <th>Food</th>\n      <th>Phenotype</th>\n      <th>Relationship-effect</th>\n      <th>Food Ontology Term</th>\n    </tr>\n  </thead>\n  <tbody>\n    <tr>\n      <th>0</th>\n      <td>ALA contributes to the maintenance of normal b...</td>\n      <td>Alpha-linolenic acid (ALA)</td>\n      <td>Normal blood cholesterol</td>\n      <td>Maintenance of a function</td>\n      <td>https://foodb.ca/compounds/FDB012462</td>\n    </tr>\n    <tr>\n      <th>1</th>\n      <td>Activated charcoal contributes to reducing exe...</td>\n      <td>Activated charcoal</td>\n      <td>Excessive flatulence</td>\n      <td>Enhancing a function</td>\n      <td>https://foodb.ca/compounds/FDB008898</td>\n    </tr>\n    <tr>\n      <th>2</th>\n      <td>Barley grain fibre contributes to an increase ...</td>\n      <td>Barley grain fibre</td>\n      <td>Increase in faecal bulk</td>\n      <td>Enhancing a function</td>\n      <td>https://foodb.ca/foods/FOOD00088</td>\n    </tr>\n    <tr>\n      <th>3</th>\n      <td>Beta-glucans contribute to the maintenance of ...</td>\n      <td>Beta-glucans</td>\n      <td>Normal blood cholesterol</td>\n      <td>Maintenance of a function</td>\n      <td>https://foodb.ca/compounds/FDB005762</td>\n    </tr>\n    <tr>\n      <th>4</th>\n      <td>Betaine contributes to normal homocysteine met...</td>\n      <td>Betaine</td>\n      <td>Normal blood homocysteine</td>\n      <td>Maintenance of a function</td>\n      <td>https://foodb.ca/compounds/FDB009020</td>\n    </tr>\n  </tbody>\n</table>\n</div>"
     },
     "execution_count": 17,
     "metadata": {},
     "output_type": "execute_result"
    }
   ],
   "source": [
    "import pandas as pd\n",
    "import numpy as np\n",
    "df = pd.read_csv('data/ClaimsKG.csv')\n",
    "df2 = pd.read_csv('data/ClaimsKG2.csv')\n",
    "frames = [df, df2]\n",
    "df = pd.concat(frames)\n",
    "df = df[['Claim', 'Food','Phenotype','Relationship-effect','Food Ontology Term']]\n",
    "df = df.dropna(subset = ['Claim'])\n",
    "df.index = range(0,len(df))\n",
    "print(len(df))\n",
    "df.head()"
   ],
   "metadata": {
    "collapsed": false
   }
  },
  {
   "cell_type": "code",
   "execution_count": 38,
   "outputs": [],
   "source": [
    "from bs4 import BeautifulSoup\n",
    "from selenium import webdriver\n",
    "from selenium.webdriver.chrome.options import Options\n",
    "import time\n",
    "def extract_wikipedia_urls():\n",
    "    wiki_ids = []\n",
    "    seen_foodb = []\n",
    "    for i in range(len(df)):\n",
    "        wikipedia_id = []\n",
    "        if df['Food Ontology Term'][i] is None:\n",
    "            wiki_ids.append(wikipedia_id)\n",
    "            continue\n",
    "        try:\n",
    "            urls = df['Food Ontology Term'][i].split('; ')\n",
    "            for compound_url in urls:\n",
    "                if compound_url in seen_foodb:\n",
    "                    wikipedia_id.append('')\n",
    "                    continue\n",
    "                x_wikipedia_id = ''\n",
    "                compound_url = str(df['Food Ontology Term'][i])\n",
    "                options = Options()\n",
    "                options.add_argument('--headless')\n",
    "                options.add_argument('--disable-gpu')\n",
    "                driver = webdriver.Chrome(chrome_options=options)\n",
    "                driver.get(compound_url)\n",
    "                page = driver.page_source\n",
    "                driver.quit()\n",
    "                soup = BeautifulSoup(page, 'html.parser')\n",
    "                x_wikipedia_id = soup.findAll(text='Wikipedia ID')\n",
    "                x_wikipedia_id = x_wikipedia_id[0].parent.parent.find('a')['href']\n",
    "                seen_foodb.append(compound_url)\n",
    "\n",
    "                wikipedia_id.append(x_wikipedia_id)\n",
    "            wiki_ids.append(wikipedia_id)\n",
    "        except:\n",
    "            wiki_ids.append(wikipedia_id)\n",
    "            continue\n",
    "    df['foodDB_wiki'] = wiki_ids\n",
    "    df['foodDB_wiki'] = df['foodDB_wiki'].replace([\"['']\"], None)\n",
    "    df.sort_values('Food Ontology Term', inplace=True)\n",
    "    df['foodDB_wiki'] = df.groupby('Food Ontology Term')['foodDB_wiki'].transform('first')\n",
    "    df.sort_index(inplace=True)\n",
    "    df['foodDB_wiki'] = df['foodDB_wiki'].replace('[]', None)\n",
    "    df.to_csv('data/processed_claims.csv', index=False)"
   ],
   "metadata": {
    "collapsed": false
   }
  },
  {
   "cell_type": "code",
   "execution_count": 42,
   "outputs": [
    {
     "data": {
      "text/plain": "                                               Claim  \\\n0  ALA contributes to the maintenance of normal b...   \n1  Activated charcoal contributes to reducing exe...   \n2  Barley grain fibre contributes to an increase ...   \n3  Beta-glucans contribute to the maintenance of ...   \n4  Betaine contributes to normal homocysteine met...   \n\n                         Food                  Phenotype  \\\n0  Alpha-linolenic acid (ALA)   Normal blood cholesterol   \n1          Activated charcoal       Excessive flatulence   \n2          Barley grain fibre    Increase in faecal bulk   \n3                Beta-glucans   Normal blood cholesterol   \n4                     Betaine  Normal blood homocysteine   \n\n         Relationship-effect                    Food Ontology Term  \\\n0  Maintenance of a function  https://foodb.ca/compounds/FDB012462   \n1       Enhancing a function  https://foodb.ca/compounds/FDB008898   \n2       Enhancing a function      https://foodb.ca/foods/FOOD00088   \n3  Maintenance of a function  https://foodb.ca/compounds/FDB005762   \n4  Maintenance of a function  https://foodb.ca/compounds/FDB009020   \n\n                                         foodDB_wiki  \n0  ['http://en.wikipedia.org/wiki/Alpha-Linolenic...  \n1  ['http://en.wikipedia.org/wiki/Activated_carbon']  \n2            ['http://en.wikipedia.org/wiki/Barley']  \n3            ['http://en.wikipedia.org/wiki/Glucan']  \n4           ['http://en.wikipedia.org/wiki/Betaine']  ",
      "text/html": "<div>\n<style scoped>\n    .dataframe tbody tr th:only-of-type {\n        vertical-align: middle;\n    }\n\n    .dataframe tbody tr th {\n        vertical-align: top;\n    }\n\n    .dataframe thead th {\n        text-align: right;\n    }\n</style>\n<table border=\"1\" class=\"dataframe\">\n  <thead>\n    <tr style=\"text-align: right;\">\n      <th></th>\n      <th>Claim</th>\n      <th>Food</th>\n      <th>Phenotype</th>\n      <th>Relationship-effect</th>\n      <th>Food Ontology Term</th>\n      <th>foodDB_wiki</th>\n    </tr>\n  </thead>\n  <tbody>\n    <tr>\n      <th>0</th>\n      <td>ALA contributes to the maintenance of normal b...</td>\n      <td>Alpha-linolenic acid (ALA)</td>\n      <td>Normal blood cholesterol</td>\n      <td>Maintenance of a function</td>\n      <td>https://foodb.ca/compounds/FDB012462</td>\n      <td>['http://en.wikipedia.org/wiki/Alpha-Linolenic...</td>\n    </tr>\n    <tr>\n      <th>1</th>\n      <td>Activated charcoal contributes to reducing exe...</td>\n      <td>Activated charcoal</td>\n      <td>Excessive flatulence</td>\n      <td>Enhancing a function</td>\n      <td>https://foodb.ca/compounds/FDB008898</td>\n      <td>['http://en.wikipedia.org/wiki/Activated_carbon']</td>\n    </tr>\n    <tr>\n      <th>2</th>\n      <td>Barley grain fibre contributes to an increase ...</td>\n      <td>Barley grain fibre</td>\n      <td>Increase in faecal bulk</td>\n      <td>Enhancing a function</td>\n      <td>https://foodb.ca/foods/FOOD00088</td>\n      <td>['http://en.wikipedia.org/wiki/Barley']</td>\n    </tr>\n    <tr>\n      <th>3</th>\n      <td>Beta-glucans contribute to the maintenance of ...</td>\n      <td>Beta-glucans</td>\n      <td>Normal blood cholesterol</td>\n      <td>Maintenance of a function</td>\n      <td>https://foodb.ca/compounds/FDB005762</td>\n      <td>['http://en.wikipedia.org/wiki/Glucan']</td>\n    </tr>\n    <tr>\n      <th>4</th>\n      <td>Betaine contributes to normal homocysteine met...</td>\n      <td>Betaine</td>\n      <td>Normal blood homocysteine</td>\n      <td>Maintenance of a function</td>\n      <td>https://foodb.ca/compounds/FDB009020</td>\n      <td>['http://en.wikipedia.org/wiki/Betaine']</td>\n    </tr>\n  </tbody>\n</table>\n</div>"
     },
     "execution_count": 42,
     "metadata": {},
     "output_type": "execute_result"
    }
   ],
   "source": [
    "df = pd.read_csv('data/processed_claims.csv')\n",
    "df.head()"
   ],
   "metadata": {
    "collapsed": false
   }
  },
  {
   "cell_type": "code",
   "execution_count": 22,
   "outputs": [],
   "source": [],
   "metadata": {
    "collapsed": false
   }
  }
 ],
 "metadata": {
  "kernelspec": {
   "display_name": "Python 3",
   "language": "python",
   "name": "python3"
  },
  "language_info": {
   "codemirror_mode": {
    "name": "ipython",
    "version": 2
   },
   "file_extension": ".py",
   "mimetype": "text/x-python",
   "name": "python",
   "nbconvert_exporter": "python",
   "pygments_lexer": "ipython2",
   "version": "2.7.6"
  }
 },
 "nbformat": 4,
 "nbformat_minor": 0
}
