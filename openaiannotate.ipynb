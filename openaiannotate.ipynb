{
 "cells": [
  {
   "cell_type": "code",
   "execution_count": 133,
   "outputs": [
    {
     "data": {
      "text/plain": "                                               Claim  \\\n0  ALA contributes to the maintenance of normal b...   \n1  Activated charcoal contributes to reducing exe...   \n2  Barley grain fibre contributes to an increase ...   \n3  Beta-glucans contribute to the maintenance of ...   \n4  Betaine contributes to normal homocysteine met...   \n\n                         Food                  Phenotype  \\\n0  Alpha-linolenic acid (ALA)   Normal blood cholesterol   \n1          Activated charcoal       Excessive flatulence   \n2          Barley grain fibre    Increase in faecal bulk   \n3                Beta-glucans   Normal blood cholesterol   \n4                     Betaine  Normal blood homocysteine   \n\n         Relationship-effect                    Food Ontology Term  \\\n0  Maintenance of a function  https://foodb.ca/compounds/FDB012462   \n1       Enhancing a function  https://foodb.ca/compounds/FDB008898   \n2       Enhancing a function      https://foodb.ca/foods/FOOD00088   \n3  Maintenance of a function  https://foodb.ca/compounds/FDB005762   \n4  Maintenance of a function  https://foodb.ca/compounds/FDB009020   \n\n                                         foodDB_wiki  \n0  ['http://en.wikipedia.org/wiki/Alpha-Linolenic...  \n1  ['http://en.wikipedia.org/wiki/Activated_carbon']  \n2            ['http://en.wikipedia.org/wiki/Barley']  \n3            ['http://en.wikipedia.org/wiki/Glucan']  \n4           ['http://en.wikipedia.org/wiki/Betaine']  ",
      "text/html": "<div>\n<style scoped>\n    .dataframe tbody tr th:only-of-type {\n        vertical-align: middle;\n    }\n\n    .dataframe tbody tr th {\n        vertical-align: top;\n    }\n\n    .dataframe thead th {\n        text-align: right;\n    }\n</style>\n<table border=\"1\" class=\"dataframe\">\n  <thead>\n    <tr style=\"text-align: right;\">\n      <th></th>\n      <th>Claim</th>\n      <th>Food</th>\n      <th>Phenotype</th>\n      <th>Relationship-effect</th>\n      <th>Food Ontology Term</th>\n      <th>foodDB_wiki</th>\n    </tr>\n  </thead>\n  <tbody>\n    <tr>\n      <th>0</th>\n      <td>ALA contributes to the maintenance of normal b...</td>\n      <td>Alpha-linolenic acid (ALA)</td>\n      <td>Normal blood cholesterol</td>\n      <td>Maintenance of a function</td>\n      <td>https://foodb.ca/compounds/FDB012462</td>\n      <td>['http://en.wikipedia.org/wiki/Alpha-Linolenic...</td>\n    </tr>\n    <tr>\n      <th>1</th>\n      <td>Activated charcoal contributes to reducing exe...</td>\n      <td>Activated charcoal</td>\n      <td>Excessive flatulence</td>\n      <td>Enhancing a function</td>\n      <td>https://foodb.ca/compounds/FDB008898</td>\n      <td>['http://en.wikipedia.org/wiki/Activated_carbon']</td>\n    </tr>\n    <tr>\n      <th>2</th>\n      <td>Barley grain fibre contributes to an increase ...</td>\n      <td>Barley grain fibre</td>\n      <td>Increase in faecal bulk</td>\n      <td>Enhancing a function</td>\n      <td>https://foodb.ca/foods/FOOD00088</td>\n      <td>['http://en.wikipedia.org/wiki/Barley']</td>\n    </tr>\n    <tr>\n      <th>3</th>\n      <td>Beta-glucans contribute to the maintenance of ...</td>\n      <td>Beta-glucans</td>\n      <td>Normal blood cholesterol</td>\n      <td>Maintenance of a function</td>\n      <td>https://foodb.ca/compounds/FDB005762</td>\n      <td>['http://en.wikipedia.org/wiki/Glucan']</td>\n    </tr>\n    <tr>\n      <th>4</th>\n      <td>Betaine contributes to normal homocysteine met...</td>\n      <td>Betaine</td>\n      <td>Normal blood homocysteine</td>\n      <td>Maintenance of a function</td>\n      <td>https://foodb.ca/compounds/FDB009020</td>\n      <td>['http://en.wikipedia.org/wiki/Betaine']</td>\n    </tr>\n  </tbody>\n</table>\n</div>"
     },
     "execution_count": 133,
     "metadata": {},
     "output_type": "execute_result"
    }
   ],
   "source": [
    "import pandas as pd\n",
    "df = pd.read_csv('data/processed_claims.csv')\n",
    "df.head()"
   ],
   "metadata": {
    "collapsed": false
   }
  },
  {
   "cell_type": "markdown",
   "source": [
    "# NER TASK"
   ],
   "metadata": {
    "collapsed": false
   }
  },
  {
   "cell_type": "markdown",
   "source": [
    "### ANOTATE CLAIMS USING OPENAI GPT-3.5 TURBO MODEL\n",
    "\n",
    "The text present in the 'Claim' column is sent to the OpenAI GPT-3.5 Turbo model for annotation. The function extracts the entities, classifies them, and extracts an association between those entities. The entities to extract are of the types: \"Food Entity\", \"Phenotype\". The function returns the results as a YAML object with the following fields:\n",
    "\n",
    "entities: the list of entities in the text, each entity is an object with the fields: label, type\n",
    "association: a list with the most important association between entities in the text, an association is an object with the fields: \"subject\" for the subject entity, \"predicate\" for the relation (maintenance of function, enhancing a function, reducing a risk factor), \"object\" for the object entity\n",
    "The function saves the annotated results in 'data/annotated_claims.csv' file."
   ],
   "metadata": {
    "collapsed": false
   }
  },
  {
   "cell_type": "code",
   "execution_count": 134,
   "outputs": [
    {
     "data": {
      "text/plain": "                                               Claim  \\\n0  ALA contributes to the maintenance of normal b...   \n1  Activated charcoal contributes to reducing exe...   \n2  Barley grain fibre contributes to an increase ...   \n3  Beta-glucans contribute to the maintenance of ...   \n4  Betaine contributes to normal homocysteine met...   \n\n                               Food                            Phenotype  \\\n0                           ['ALA']  ['normal blood cholesterol levels']   \n1  ['Activated charcoal', 'eating']              ['exessive flatulence']   \n2            ['Barley grain fibre']                      ['faecal bulk']   \n3                  ['Beta-glucans']  ['normal blood cholesterol levels']   \n4                       ['Betaine']          ['homocysteine metabolism']   \n\n                     Health relationship  \n0  ['contributes to the maintenance of']  \n1             ['reducing a risk factor']  \n2      ['contributes to an increase in']  \n3                        ['maintenance']  \n4                     ['contributes to']  ",
      "text/html": "<div>\n<style scoped>\n    .dataframe tbody tr th:only-of-type {\n        vertical-align: middle;\n    }\n\n    .dataframe tbody tr th {\n        vertical-align: top;\n    }\n\n    .dataframe thead th {\n        text-align: right;\n    }\n</style>\n<table border=\"1\" class=\"dataframe\">\n  <thead>\n    <tr style=\"text-align: right;\">\n      <th></th>\n      <th>Claim</th>\n      <th>Food</th>\n      <th>Phenotype</th>\n      <th>Health relationship</th>\n    </tr>\n  </thead>\n  <tbody>\n    <tr>\n      <th>0</th>\n      <td>ALA contributes to the maintenance of normal b...</td>\n      <td>['ALA']</td>\n      <td>['normal blood cholesterol levels']</td>\n      <td>['contributes to the maintenance of']</td>\n    </tr>\n    <tr>\n      <th>1</th>\n      <td>Activated charcoal contributes to reducing exe...</td>\n      <td>['Activated charcoal', 'eating']</td>\n      <td>['exessive flatulence']</td>\n      <td>['reducing a risk factor']</td>\n    </tr>\n    <tr>\n      <th>2</th>\n      <td>Barley grain fibre contributes to an increase ...</td>\n      <td>['Barley grain fibre']</td>\n      <td>['faecal bulk']</td>\n      <td>['contributes to an increase in']</td>\n    </tr>\n    <tr>\n      <th>3</th>\n      <td>Beta-glucans contribute to the maintenance of ...</td>\n      <td>['Beta-glucans']</td>\n      <td>['normal blood cholesterol levels']</td>\n      <td>['maintenance']</td>\n    </tr>\n    <tr>\n      <th>4</th>\n      <td>Betaine contributes to normal homocysteine met...</td>\n      <td>['Betaine']</td>\n      <td>['homocysteine metabolism']</td>\n      <td>['contributes to']</td>\n    </tr>\n  </tbody>\n</table>\n</div>"
     },
     "execution_count": 134,
     "metadata": {},
     "output_type": "execute_result"
    }
   ],
   "source": [
    "import requests\n",
    "import json\n",
    "\n",
    "def annotateClaimsKG():\n",
    "    url = 'https://api.collaboratory.semanticscience.org/openai-extract'\n",
    "    headers = {'content-type': 'application/json'}\n",
    "    params = {'prompt':'From the text below, extract the entities, classify them and extract an association between those entities, Entities to extract should be of one of those types: \"Food Entity\", \"Phenotype\". Return the results as a YAML object with the following fields: - entities: <the list of entities in the text, each entity is an object with the fields: label, type> - association: <a list with the most important association between entities in the text, an association is an object with the fields: \"subject\" for the subject entity, \"predicate\" for the relation (maintenance of function, enhancing a function, reducing a risk factor), \"object\" for the object entity>'}\n",
    "\n",
    "    annot = []\n",
    "    for i in range(0,len(df)):\n",
    "        while True:\n",
    "            data = {\n",
    "                'text': df['Claim'][i]\n",
    "            }\n",
    "            response = requests.post(url, params=params, data=json.dumps(data), headers=headers)\n",
    "            print(response)\n",
    "            try:\n",
    "                response = response.json()\n",
    "                print(response)\n",
    "                food_entities = [entity['label'] for entity in response['entities'] if entity['type'] == 'Food Entity']\n",
    "                phenotype_entities = [entity['label'] for entity in response['entities'] if entity['type'] == 'Phenotype']\n",
    "                health_relationships = [association['predicate'] for association in response['association']]\n",
    "                row = [df['Claim'][i], food_entities, phenotype_entities, health_relationships]\n",
    "                annot.append(row)\n",
    "                break\n",
    "            except:\n",
    "                pass\n",
    "    annotations = pd.DataFrame(annot, columns=['Claim', 'Food','Phenotype','Health relationship'])\n",
    "    annotations.to_csv('data/annotated_claims.csv', index=False)\n",
    "annotations = pd.read_csv('data/annotated_claims.csv')\n",
    "annotations.head()"
   ],
   "metadata": {
    "collapsed": false
   }
  },
  {
   "cell_type": "markdown",
   "source": [
    "### EVALUATE ANNOTATIONS OF OPENAI GPT3.5-TURBO MODEL ON FOOD AND PHENOTYPES\n",
    "Now we evaluate the annotations of the OpenAI GPT3.5-Turbo model on food terms using nervaluate. Full named-entity (i.e., not tag/token) evaluation metrics based on SemEval’13"
   ],
   "metadata": {
    "collapsed": false
   }
  },
  {
   "cell_type": "code",
   "execution_count": 135,
   "outputs": [
    {
     "data": {
      "text/plain": "                                               Claim  \\\n0  ALA contributes to the maintenance of normal b...   \n1  Activated charcoal contributes to reducing exe...   \n2  Barley grain fibre contributes to an increase ...   \n3  Beta-glucans contribute to the maintenance of ...   \n4  Betaine contributes to normal homocysteine met...   \n\n                           Food                    Phenotype  \\\n0  [Alpha-linolenic acid (ALA)]   [Normal blood cholesterol]   \n1          [Activated charcoal]       [Excessive flatulence]   \n2          [Barley grain fibre]    [Increase in faecal bulk]   \n3                [Beta-glucans]   [Normal blood cholesterol]   \n4                     [Betaine]  [Normal blood homocysteine]   \n\n         Relationship-effect                    Food Ontology Term  \\\n0  Maintenance of a function  https://foodb.ca/compounds/FDB012462   \n1       Enhancing a function  https://foodb.ca/compounds/FDB008898   \n2       Enhancing a function      https://foodb.ca/foods/FOOD00088   \n3  Maintenance of a function  https://foodb.ca/compounds/FDB005762   \n4  Maintenance of a function  https://foodb.ca/compounds/FDB009020   \n\n                                         foodDB_wiki  \n0  ['http://en.wikipedia.org/wiki/Alpha-Linolenic...  \n1  ['http://en.wikipedia.org/wiki/Activated_carbon']  \n2            ['http://en.wikipedia.org/wiki/Barley']  \n3            ['http://en.wikipedia.org/wiki/Glucan']  \n4           ['http://en.wikipedia.org/wiki/Betaine']  ",
      "text/html": "<div>\n<style scoped>\n    .dataframe tbody tr th:only-of-type {\n        vertical-align: middle;\n    }\n\n    .dataframe tbody tr th {\n        vertical-align: top;\n    }\n\n    .dataframe thead th {\n        text-align: right;\n    }\n</style>\n<table border=\"1\" class=\"dataframe\">\n  <thead>\n    <tr style=\"text-align: right;\">\n      <th></th>\n      <th>Claim</th>\n      <th>Food</th>\n      <th>Phenotype</th>\n      <th>Relationship-effect</th>\n      <th>Food Ontology Term</th>\n      <th>foodDB_wiki</th>\n    </tr>\n  </thead>\n  <tbody>\n    <tr>\n      <th>0</th>\n      <td>ALA contributes to the maintenance of normal b...</td>\n      <td>[Alpha-linolenic acid (ALA)]</td>\n      <td>[Normal blood cholesterol]</td>\n      <td>Maintenance of a function</td>\n      <td>https://foodb.ca/compounds/FDB012462</td>\n      <td>['http://en.wikipedia.org/wiki/Alpha-Linolenic...</td>\n    </tr>\n    <tr>\n      <th>1</th>\n      <td>Activated charcoal contributes to reducing exe...</td>\n      <td>[Activated charcoal]</td>\n      <td>[Excessive flatulence]</td>\n      <td>Enhancing a function</td>\n      <td>https://foodb.ca/compounds/FDB008898</td>\n      <td>['http://en.wikipedia.org/wiki/Activated_carbon']</td>\n    </tr>\n    <tr>\n      <th>2</th>\n      <td>Barley grain fibre contributes to an increase ...</td>\n      <td>[Barley grain fibre]</td>\n      <td>[Increase in faecal bulk]</td>\n      <td>Enhancing a function</td>\n      <td>https://foodb.ca/foods/FOOD00088</td>\n      <td>['http://en.wikipedia.org/wiki/Barley']</td>\n    </tr>\n    <tr>\n      <th>3</th>\n      <td>Beta-glucans contribute to the maintenance of ...</td>\n      <td>[Beta-glucans]</td>\n      <td>[Normal blood cholesterol]</td>\n      <td>Maintenance of a function</td>\n      <td>https://foodb.ca/compounds/FDB005762</td>\n      <td>['http://en.wikipedia.org/wiki/Glucan']</td>\n    </tr>\n    <tr>\n      <th>4</th>\n      <td>Betaine contributes to normal homocysteine met...</td>\n      <td>[Betaine]</td>\n      <td>[Normal blood homocysteine]</td>\n      <td>Maintenance of a function</td>\n      <td>https://foodb.ca/compounds/FDB009020</td>\n      <td>['http://en.wikipedia.org/wiki/Betaine']</td>\n    </tr>\n  </tbody>\n</table>\n</div>"
     },
     "execution_count": 135,
     "metadata": {},
     "output_type": "execute_result"
    }
   ],
   "source": [
    "import re\n",
    "import ast\n",
    "for i in range(len(df)):\n",
    "    s = re.split(', | & | and | or ',df['Food'][i])\n",
    "    s = [x for x in s if len(x) > 1]\n",
    "    df['Food'][i] = s\n",
    "    df['Phenotype'][i] = [df['Phenotype'][i]]\n",
    "df.head()"
   ],
   "metadata": {
    "collapsed": false
   }
  },
  {
   "cell_type": "markdown",
   "source": [
    "Convert the true and predicted labels to the indices that they match in the Claim text"
   ],
   "metadata": {
    "collapsed": false
   }
  },
  {
   "cell_type": "code",
   "execution_count": 136,
   "outputs": [
    {
     "data": {
      "text/plain": "                                               Claim       Food   Phenotype  \\\n0  ALA contributes to the maintenance of normal b...   [(0, 2)]  [(39, 61)]   \n1  Activated charcoal contributes to reducing exe...  [(0, 17)]  [(45, 61)]   \n2  Barley grain fibre contributes to an increase ...  [(0, 17)]  [(38, 59)]   \n3  Beta-glucans contribute to the maintenance of ...  [(0, 11)]  [(47, 69)]   \n4  Betaine contributes to normal homocysteine met...   [(0, 6)]  [(29, 41)]   \n\n        predicted_food predicted_phenotype  \n0             [(0, 2)]          [(38, 68)]  \n1  [(0, 17), (69, 74)]          [(43, 61)]  \n2            [(0, 17)]          [(49, 59)]  \n3            [(0, 11)]          [(46, 76)]  \n4             [(0, 6)]          [(30, 52)]  ",
      "text/html": "<div>\n<style scoped>\n    .dataframe tbody tr th:only-of-type {\n        vertical-align: middle;\n    }\n\n    .dataframe tbody tr th {\n        vertical-align: top;\n    }\n\n    .dataframe thead th {\n        text-align: right;\n    }\n</style>\n<table border=\"1\" class=\"dataframe\">\n  <thead>\n    <tr style=\"text-align: right;\">\n      <th></th>\n      <th>Claim</th>\n      <th>Food</th>\n      <th>Phenotype</th>\n      <th>predicted_food</th>\n      <th>predicted_phenotype</th>\n    </tr>\n  </thead>\n  <tbody>\n    <tr>\n      <th>0</th>\n      <td>ALA contributes to the maintenance of normal b...</td>\n      <td>[(0, 2)]</td>\n      <td>[(39, 61)]</td>\n      <td>[(0, 2)]</td>\n      <td>[(38, 68)]</td>\n    </tr>\n    <tr>\n      <th>1</th>\n      <td>Activated charcoal contributes to reducing exe...</td>\n      <td>[(0, 17)]</td>\n      <td>[(45, 61)]</td>\n      <td>[(0, 17), (69, 74)]</td>\n      <td>[(43, 61)]</td>\n    </tr>\n    <tr>\n      <th>2</th>\n      <td>Barley grain fibre contributes to an increase ...</td>\n      <td>[(0, 17)]</td>\n      <td>[(38, 59)]</td>\n      <td>[(0, 17)]</td>\n      <td>[(49, 59)]</td>\n    </tr>\n    <tr>\n      <th>3</th>\n      <td>Beta-glucans contribute to the maintenance of ...</td>\n      <td>[(0, 11)]</td>\n      <td>[(47, 69)]</td>\n      <td>[(0, 11)]</td>\n      <td>[(46, 76)]</td>\n    </tr>\n    <tr>\n      <th>4</th>\n      <td>Betaine contributes to normal homocysteine met...</td>\n      <td>[(0, 6)]</td>\n      <td>[(29, 41)]</td>\n      <td>[(0, 6)]</td>\n      <td>[(30, 52)]</td>\n    </tr>\n  </tbody>\n</table>\n</div>"
     },
     "execution_count": 136,
     "metadata": {},
     "output_type": "execute_result"
    }
   ],
   "source": [
    "from stringMatcher import longest_common_substring\n",
    "# Convert \"Food\" column to indices\n",
    "annotations_copy = annotations.copy()\n",
    "df_copy = df[['Claim','Food','Phenotype']].copy()\n",
    "annotations_copy['Food'] = annotations_copy.apply(lambda row: [longest_common_substring(row['Claim'],food) for food in ast.literal_eval(row['Food'])], axis=1)\n",
    "df_copy['Food'] = df_copy.apply(lambda row: [longest_common_substring(row['Claim'],food) for food in row['Food']], axis=1)\n",
    "# Convert \"Phenotype\" column to indices\n",
    "annotations_copy['Phenotype'] = annotations_copy.apply(lambda row: [longest_common_substring(row['Claim'],phenotype) for phenotype in ast.literal_eval(row['Phenotype'])], axis=1)\n",
    "df_copy['Phenotype'] = df_copy.apply(lambda row: [longest_common_substring(row['Claim'],phenotype) for phenotype in row['Phenotype']], axis=1)\n",
    "# Display the updated DataFrame\n",
    "indices_df = df_copy\n",
    "indices_df['predicted_food'] = annotations_copy['Food']\n",
    "indices_df['predicted_phenotype'] = annotations_copy['Phenotype']\n",
    "indices_df.head()"
   ],
   "metadata": {
    "collapsed": false
   }
  },
  {
   "cell_type": "markdown",
   "source": [
    "Add text length to the indices so the indices are not repeated for each row."
   ],
   "metadata": {
    "collapsed": false
   }
  },
  {
   "cell_type": "code",
   "execution_count": 137,
   "outputs": [
    {
     "data": {
      "text/plain": "                                               Claim          Food  \\\n0  ALA contributes to the maintenance of normal b...      [(0, 2)]   \n1  Activated charcoal contributes to reducing exe...    [(69, 86)]   \n2  Barley grain fibre contributes to an increase ...  [(144, 161)]   \n3  Beta-glucans contribute to the maintenance of ...  [(204, 215)]   \n4  Betaine contributes to normal homocysteine met...  [(281, 287)]   \n\n      Phenotype          predicted_food predicted_phenotype  \n0    [(39, 61)]                [(0, 2)]          [(38, 68)]  \n1  [(114, 130)]  [(69, 86), (138, 143)]        [(112, 130)]  \n2  [(182, 203)]            [(144, 161)]        [(193, 203)]  \n3  [(251, 273)]            [(204, 215)]        [(250, 280)]  \n4  [(310, 322)]            [(281, 287)]        [(311, 333)]  ",
      "text/html": "<div>\n<style scoped>\n    .dataframe tbody tr th:only-of-type {\n        vertical-align: middle;\n    }\n\n    .dataframe tbody tr th {\n        vertical-align: top;\n    }\n\n    .dataframe thead th {\n        text-align: right;\n    }\n</style>\n<table border=\"1\" class=\"dataframe\">\n  <thead>\n    <tr style=\"text-align: right;\">\n      <th></th>\n      <th>Claim</th>\n      <th>Food</th>\n      <th>Phenotype</th>\n      <th>predicted_food</th>\n      <th>predicted_phenotype</th>\n    </tr>\n  </thead>\n  <tbody>\n    <tr>\n      <th>0</th>\n      <td>ALA contributes to the maintenance of normal b...</td>\n      <td>[(0, 2)]</td>\n      <td>[(39, 61)]</td>\n      <td>[(0, 2)]</td>\n      <td>[(38, 68)]</td>\n    </tr>\n    <tr>\n      <th>1</th>\n      <td>Activated charcoal contributes to reducing exe...</td>\n      <td>[(69, 86)]</td>\n      <td>[(114, 130)]</td>\n      <td>[(69, 86), (138, 143)]</td>\n      <td>[(112, 130)]</td>\n    </tr>\n    <tr>\n      <th>2</th>\n      <td>Barley grain fibre contributes to an increase ...</td>\n      <td>[(144, 161)]</td>\n      <td>[(182, 203)]</td>\n      <td>[(144, 161)]</td>\n      <td>[(193, 203)]</td>\n    </tr>\n    <tr>\n      <th>3</th>\n      <td>Beta-glucans contribute to the maintenance of ...</td>\n      <td>[(204, 215)]</td>\n      <td>[(251, 273)]</td>\n      <td>[(204, 215)]</td>\n      <td>[(250, 280)]</td>\n    </tr>\n    <tr>\n      <th>4</th>\n      <td>Betaine contributes to normal homocysteine met...</td>\n      <td>[(281, 287)]</td>\n      <td>[(310, 322)]</td>\n      <td>[(281, 287)]</td>\n      <td>[(311, 333)]</td>\n    </tr>\n  </tbody>\n</table>\n</div>"
     },
     "execution_count": 137,
     "metadata": {},
     "output_type": "execute_result"
    }
   ],
   "source": [
    "# Calculate the cumulative lengths of the Claim text\n",
    "cumulative_lengths = indices_df['Claim'].apply(len).cumsum().shift(fill_value=0)\n",
    "# Modify the spans in the columns based on the cumulative lengths\n",
    "indices_df['Food'] = indices_df.apply(lambda row: [(start + cumulative_lengths[row.name], end + cumulative_lengths[row.name]) for (start, end) in row['Food']], axis=1)\n",
    "indices_df['Phenotype'] = indices_df.apply(lambda row: [(start + cumulative_lengths[row.name], end + cumulative_lengths[row.name]) for (start, end) in row['Phenotype']], axis=1)\n",
    "indices_df['predicted_food'] = indices_df.apply(lambda row: [(start + cumulative_lengths[row.name], end + cumulative_lengths[row.name]) for (start, end) in row['predicted_food']], axis=1)\n",
    "indices_df['predicted_phenotype'] = indices_df.apply(lambda row: [(start + cumulative_lengths[row.name], end + cumulative_lengths[row.name]) for (start, end) in row['predicted_phenotype']], axis=1)\n",
    "indices_df.head()"
   ],
   "metadata": {
    "collapsed": false
   }
  },
  {
   "cell_type": "code",
   "execution_count": 138,
   "outputs": [
    {
     "name": "stdout",
     "output_type": "stream",
     "text": [
      "{'FOOD': {'ent_type': {'correct': 263, 'incorrect': 0, 'partial': 0, 'missed': 30, 'spurious': 35, 'possible': 293, 'actual': 298, 'precision': 0.8825503355704698, 'recall': 0.8976109215017065, 'f1': 0.8900169204737733}, 'partial': {'correct': 188, 'incorrect': 0, 'partial': 75, 'missed': 30, 'spurious': 35, 'possible': 293, 'actual': 298, 'precision': 0.7567114093959731, 'recall': 0.7696245733788396, 'f1': 0.763113367174281}, 'strict': {'correct': 188, 'incorrect': 75, 'partial': 0, 'missed': 30, 'spurious': 35, 'possible': 293, 'actual': 298, 'precision': 0.6308724832214765, 'recall': 0.6416382252559727, 'f1': 0.6362098138747885}, 'exact': {'correct': 188, 'incorrect': 75, 'partial': 0, 'missed': 30, 'spurious': 35, 'possible': 293, 'actual': 298, 'precision': 0.6308724832214765, 'recall': 0.6416382252559727, 'f1': 0.6362098138747885}}, 'PHENOTYPE': {'ent_type': {'correct': 250, 'incorrect': 0, 'partial': 0, 'missed': 10, 'spurious': 135, 'possible': 260, 'actual': 385, 'precision': 0.6493506493506493, 'recall': 0.9615384615384616, 'f1': 0.7751937984496124}, 'partial': {'correct': 3, 'incorrect': 0, 'partial': 247, 'missed': 10, 'spurious': 135, 'possible': 260, 'actual': 385, 'precision': 0.32857142857142857, 'recall': 0.48653846153846153, 'f1': 0.3922480620155039}, 'strict': {'correct': 3, 'incorrect': 247, 'partial': 0, 'missed': 10, 'spurious': 135, 'possible': 260, 'actual': 385, 'precision': 0.007792207792207792, 'recall': 0.011538461538461539, 'f1': 0.009302325581395349}, 'exact': {'correct': 3, 'incorrect': 247, 'partial': 0, 'missed': 10, 'spurious': 135, 'possible': 260, 'actual': 385, 'precision': 0.007792207792207792, 'recall': 0.011538461538461539, 'f1': 0.009302325581395349}}}\n"
     ]
    }
   ],
   "source": [
    "food_true = [{'label': 'FOOD', 'start': span[0], 'end': span[1]} for spans in indices_df['Food'] for span in spans]\n",
    "phenotype_true = [{'label': 'PHENOTYPE', 'start': span[0], 'end': span[1]} for spans in indices_df['Phenotype'] for span in spans]\n",
    "food_predicted = [{'label': 'FOOD', 'start': span[0], 'end': span[1]} for spans in indices_df['predicted_food'] for span in spans]\n",
    "phenotype_predicted = [{'label': 'PHENOTYPE', 'start': span[0], 'end': span[1]} for spans in indices_df['predicted_phenotype'] for span in spans]\n",
    "\n",
    "true = [food_true, phenotype_true]\n",
    "predicted = [food_predicted, phenotype_predicted]\n",
    "\n",
    "from nervaluate import Evaluator\n",
    "evaluator = Evaluator(true, predicted, tags=['FOOD', 'PHENOTYPE'])\n",
    "# Returns overall metrics and metrics for each tag\n",
    "results, results_per_tag = evaluator.evaluate()\n",
    "print(results_per_tag)"
   ],
   "metadata": {
    "collapsed": false
   }
  },
  {
   "cell_type": "markdown",
   "source": [
    "# EL TASK"
   ],
   "metadata": {
    "collapsed": false
   }
  },
  {
   "cell_type": "markdown",
   "source": [
    "### EVALUATION OF ENTITY LINKING OF WIKIFIER FROM PREDICTED LABELS\n",
    "First we query the Wikifier API to get the dbpedia iris and wikipedia urls of all the predicted food entities."
   ],
   "metadata": {
    "collapsed": false
   }
  },
  {
   "cell_type": "code",
   "execution_count": 139,
   "outputs": [],
   "source": [
    "# get the dbpedia iris and wikipedia urls of all the predicted food entities\n",
    "from wikifier import CallWikifier\n",
    "def queryWikifier():\n",
    "    data = []\n",
    "    for i in range(len(annotations)):\n",
    "        predicted_labels = ast.literal_eval(annotations['Food'][i])\n",
    "        for plabel in predicted_labels:\n",
    "            response = CallWikifier(plabel)\n",
    "            wiki_annotations = response[\"annotations\"]\n",
    "            dbpedia_iris = []\n",
    "            wiki_urls = []\n",
    "            for wannotation in wiki_annotations:\n",
    "                dbpedia_iri = wannotation[\"dbPediaIri\"]\n",
    "                wiki_url = wannotation[\"url\"]\n",
    "                wiki_urls.append(wiki_url)\n",
    "                dbpedia_iris.append(dbpedia_iri)\n",
    "            row = [annotations['Claim'][i], plabel, dbpedia_iris, wiki_urls]\n",
    "            data.append(row)\n",
    "    wikifier_annotations = pd.DataFrame(data, columns=['Claim', 'predicted_label','dbpedia_iris', 'wiki_urls'])\n",
    "    wikifier_annotations.to_csv('data/wiki_iris_predicted.csv', index=False)"
   ],
   "metadata": {
    "collapsed": false
   }
  },
  {
   "cell_type": "markdown",
   "source": [
    "Then we compare the urls from Wikifier to the wikipedia urls of the food entities in the processed_claims dataset. If the urls are the same, then the entity linking is correct. We calculate the precision, recall, and F1-score of the entity linking."
   ],
   "metadata": {
    "collapsed": false
   }
  },
  {
   "cell_type": "code",
   "execution_count": 140,
   "outputs": [
    {
     "name": "stdout",
     "output_type": "stream",
     "text": [
      "[[157, 82], [181, 0]]\n",
      "Precision:  0.46449704142011833\n",
      "Recall:  0.6569037656903766\n",
      "F1:  0.5441941074523398\n"
     ]
    }
   ],
   "source": [
    "wiki_iris_predicted = pd.read_csv('data/wiki_iris_predicted.csv')\n",
    "def evaluateEL(dataf):\n",
    "    confusion_matrix = [[0,0],[0,0]]\n",
    "    for i in range(len(df)):\n",
    "        true_labels = df['foodDB_wiki'][i]\n",
    "        if pd.isna(true_labels):\n",
    "            continue\n",
    "        true_labels = ast.literal_eval(true_labels)\n",
    "        predicted_labels = dataf[dataf['Claim'] == df['Claim'][i]]\n",
    "        for predicted_label in predicted_labels['wiki_urls']:\n",
    "            predicted_label = ast.literal_eval(predicted_label)\n",
    "            for tlabel in true_labels:\n",
    "                for plabel in predicted_label:\n",
    "                    if plabel == tlabel:\n",
    "                        confusion_matrix[0][0] += 1 # add to true positive\n",
    "                        true_labels.remove(tlabel)\n",
    "                        predicted_label.remove(plabel)\n",
    "            confusion_matrix[0][1] += len(true_labels) # add to false negative (unmatched true labels)\n",
    "            confusion_matrix[1][0] += len(predicted_label) # add to false positive (unmatched predicted labels)\n",
    "\n",
    "    precision = confusion_matrix[0][0]/(confusion_matrix[0][0]+confusion_matrix[1][0])\n",
    "    recall = confusion_matrix[0][0]/(confusion_matrix[0][0]+confusion_matrix[0][1])\n",
    "    f1 = 2*(precision*recall)/(precision+recall)\n",
    "    print(confusion_matrix)\n",
    "    print('Precision: ', precision)\n",
    "    print('Recall: ', recall)\n",
    "    print('F1: ',f1)\n",
    "evaluateEL(wiki_iris_predicted)"
   ],
   "metadata": {
    "collapsed": false
   }
  },
  {
   "cell_type": "markdown",
   "source": [],
   "metadata": {
    "collapsed": false
   }
  },
  {
   "cell_type": "markdown",
   "source": [
    "### EVALUATION OF ENTITY LINKING OF WIKIFIER FROM CLAIM\n",
    "In this approach the Wikifier API is called for each claim and it annotates the relevant entities. Then the food terms are extracted by filtering the entities based on their dbepedia iris. If they are not of the type FOOD, CONDIMENT, BEVERAGE... they are removed.\n",
    "Finally, the wikipedia urls of the remaining entities are compared to the true urls."
   ],
   "metadata": {
    "collapsed": false
   }
  },
  {
   "cell_type": "code",
   "execution_count": 141,
   "outputs": [],
   "source": [
    "# Filter the predicted labels based on the dbpedia iris\n",
    "from SPARQLWrapper import SPARQLWrapper, JSON\n",
    "# get the dbpedia iris and wikipedia urls of claims\n",
    "def queryWikifier():\n",
    "    data = []\n",
    "    for i in range(len(df)):\n",
    "        claim = df['Claim'][i]\n",
    "        response = CallWikifier(claim)\n",
    "        wiki_annotations = response[\"annotations\"]\n",
    "        dbpedia_iris = []\n",
    "        wiki_urls = []\n",
    "        for wannotation in wiki_annotations:\n",
    "            dbpedia_iri = wannotation[\"dbPediaIri\"]\n",
    "            wiki_url = wannotation[\"url\"]\n",
    "            wiki_urls.append(wiki_url)\n",
    "            dbpedia_iris.append(dbpedia_iri)\n",
    "        row = [annotations['Claim'][i], dbpedia_iris, wiki_urls]\n",
    "        data.append(row)\n",
    "    wikifier_annotations = pd.DataFrame(data, columns=['Claim','dbpedia_iris', 'wiki_urls'])\n",
    "    wikifier_annotations.to_csv('data/wiki_iris.csv', index=False)"
   ],
   "metadata": {
    "collapsed": false
   }
  },
  {
   "cell_type": "code",
   "execution_count": 142,
   "outputs": [],
   "source": [
    "def queryDBpedia():\n",
    "    wiki_iris = pd.read_csv('data/wiki_iris.csv')\n",
    "\n",
    "    sparql = SPARQLWrapper(\"http://dbpedia.org/sparql\")\n",
    "    sparql.setReturnFormat(JSON)\n",
    "\n",
    "    for i in range(len(wiki_iris)):\n",
    "        entities = ast.literal_eval(wiki_iris[\"dbpedia_iris\"].iloc[i])\n",
    "        wiki_urls = ast.literal_eval(wiki_iris[\"wiki_urls\"].iloc[i])\n",
    "        for entity in entities:\n",
    "            query = f'''\n",
    "                ASK {{\n",
    "                {{<{entity}> rdf:type ?a.\n",
    "                ?a rdfs:subClassOf* dbo:Food}}\n",
    "                union\n",
    "                {{<{entity}> rdf:type ?b.\n",
    "                ?b rdfs:subClassOf* dbo:Condiment}}\n",
    "                union\n",
    "                {{<{entity}> rdf:type ?c.\n",
    "                ?c rdfs:subClassOf* dbo:Beverage}}\n",
    "                union\n",
    "                {{<{entity}> rdf:type ?d.\n",
    "                ?d rdfs:subClassOf* dbo:Plant}}\n",
    "                union\n",
    "                {{<{entity}> rdf:type ?e.\n",
    "                ?e rdfs:subClassOf* dbo:Animal}}\n",
    "                union\n",
    "                {{<{entity}> rdf:type ?f.\n",
    "                ?f rdfs:subClassOf* dbo:Fungus}}\n",
    "                union\n",
    "                {{<{entity}> rdf:type ?g.\n",
    "                ?g rdfs:subClassOf* dbo:ChemicalSubstance}}\n",
    "                }}\n",
    "            '''\n",
    "            sparql.setQuery(query)\n",
    "            results = sparql.query().convert()\n",
    "            isfood = results[\"boolean\"]\n",
    "            if  not isfood:\n",
    "                index = entities.index(entity)\n",
    "                entities.remove(entity)\n",
    "                wiki_urls.remove(wiki_urls[index])\n",
    "        wiki_iris[\"dbpedia_iris\"].iloc[i] = str(entities)\n",
    "        wiki_iris[\"wiki_urls\"].iloc[i] = str(wiki_urls)\n",
    "    wiki_iris.to_csv('data/wiki_iris.csv', index=False)"
   ],
   "metadata": {
    "collapsed": false
   }
  },
  {
   "cell_type": "code",
   "execution_count": 143,
   "outputs": [
    {
     "name": "stdout",
     "output_type": "stream",
     "text": [
      "[[104, 123], [409, 0]]\n",
      "Precision:  0.20272904483430798\n",
      "Recall:  0.4581497797356828\n",
      "F1:  0.2810810810810811\n"
     ]
    }
   ],
   "source": [
    "wiki_iris = pd.read_csv('data/wiki_iris.csv')\n",
    "evaluateEL(wiki_iris)"
   ],
   "metadata": {
    "collapsed": false
   }
  },
  {
   "cell_type": "markdown",
   "source": [
    "# REL TASK"
   ],
   "metadata": {
    "collapsed": false
   }
  },
  {
   "cell_type": "markdown",
   "source": [
    "First we want to map all the relations to the relations defined in the task (maintenance of a function, reducing a risk factor, enhancing of a function)"
   ],
   "metadata": {
    "collapsed": false
   }
  },
  {
   "cell_type": "code",
   "execution_count": 150,
   "outputs": [
    {
     "data": {
      "text/plain": "                                                Claim  \\\n0   ALA contributes to the maintenance of normal b...   \n1   Activated charcoal contributes to reducing exe...   \n2   Barley grain fibre contributes to an increase ...   \n3   Beta-glucans contribute to the maintenance of ...   \n4   Betaine contributes to normal homocysteine met...   \n5   Biotin contributes to normal energy-yielding m...   \n6   Biotin contributes to normal functioning of th...   \n7   Biotin contributes to normal macronutrient met...   \n8   Biotin contributes to normal psychological fun...   \n9   Biotin contributes to the maintenance of norma...   \n10  Biotin contributes to the maintenance of norma...   \n11  Biotin contributes to the maintenance of norma...   \n12       Calcium contributes to normal blood clotting   \n13  Calcium contributes to normal energy-yielding ...   \n14      Calcium contributes to normal muscle function   \n15    Calcium contributes to normal neurotransmission   \n16  Calcium contributes to the normal function of ...   \n17  Calcium has a role in the process of cell divi...   \n18  Calcium is needed for the maintenance of norma...   \n19  Calcium is needed for the maintenance of norma...   \n\n                                Food  \\\n0                            ['ALA']   \n1   ['Activated charcoal', 'eating']   \n2             ['Barley grain fibre']   \n3                   ['Beta-glucans']   \n4                        ['Betaine']   \n5                         ['Biotin']   \n6                         ['Biotin']   \n7        ['Biotin', 'macronutrient']   \n8                         ['Biotin']   \n9                         ['Biotin']   \n10                        ['Biotin']   \n11                        ['Biotin']   \n12                       ['Calcium']   \n13                       ['Calcium']   \n14                       ['Calcium']   \n15                       ['Calcium']   \n16                       ['Calcium']   \n17                       ['Calcium']   \n18                       ['Calcium']   \n19                       ['Calcium']   \n\n                                     Phenotype        Health relationship  \n0          ['normal blood cholesterol levels']  Maintenance of a function  \n1                      ['exessive flatulence']     Reducing a risk factor  \n2                              ['faecal bulk']  Maintenance of a function  \n3          ['normal blood cholesterol levels']  Maintenance of a function  \n4                  ['homocysteine metabolism']  Maintenance of a function  \n5               ['energy-yielding metabolism']    Enhancing of a function  \n6                           ['nervous system']  Maintenance of a function  \n7                               ['metabolism']  Maintenance of a function  \n8            ['normal psychological function']  Maintenance of a function  \n9                                     ['hair']  Maintenance of a function  \n10  ['maintenance', 'normal mucous membranes']  Maintenance of a function  \n11                             ['normal skin']  Maintenance of a function  \n12                          ['blood clotting']  Maintenance of a function  \n13       ['normal energy-yielding metabolism']  Maintenance of a function  \n14                         ['muscle function']  Maintenance of a function  \n15                ['normal neurotransmission']  Maintenance of a function  \n16                       ['digestive enzymes']  Maintenance of a function  \n17         ['cell division', 'specialisation']  Maintenance of a function  \n18                            ['normal bones']  Maintenance of a function  \n19                            ['normal teeth']  Maintenance of a function  ",
      "text/html": "<div>\n<style scoped>\n    .dataframe tbody tr th:only-of-type {\n        vertical-align: middle;\n    }\n\n    .dataframe tbody tr th {\n        vertical-align: top;\n    }\n\n    .dataframe thead th {\n        text-align: right;\n    }\n</style>\n<table border=\"1\" class=\"dataframe\">\n  <thead>\n    <tr style=\"text-align: right;\">\n      <th></th>\n      <th>Claim</th>\n      <th>Food</th>\n      <th>Phenotype</th>\n      <th>Health relationship</th>\n    </tr>\n  </thead>\n  <tbody>\n    <tr>\n      <th>0</th>\n      <td>ALA contributes to the maintenance of normal b...</td>\n      <td>['ALA']</td>\n      <td>['normal blood cholesterol levels']</td>\n      <td>Maintenance of a function</td>\n    </tr>\n    <tr>\n      <th>1</th>\n      <td>Activated charcoal contributes to reducing exe...</td>\n      <td>['Activated charcoal', 'eating']</td>\n      <td>['exessive flatulence']</td>\n      <td>Reducing a risk factor</td>\n    </tr>\n    <tr>\n      <th>2</th>\n      <td>Barley grain fibre contributes to an increase ...</td>\n      <td>['Barley grain fibre']</td>\n      <td>['faecal bulk']</td>\n      <td>Maintenance of a function</td>\n    </tr>\n    <tr>\n      <th>3</th>\n      <td>Beta-glucans contribute to the maintenance of ...</td>\n      <td>['Beta-glucans']</td>\n      <td>['normal blood cholesterol levels']</td>\n      <td>Maintenance of a function</td>\n    </tr>\n    <tr>\n      <th>4</th>\n      <td>Betaine contributes to normal homocysteine met...</td>\n      <td>['Betaine']</td>\n      <td>['homocysteine metabolism']</td>\n      <td>Maintenance of a function</td>\n    </tr>\n    <tr>\n      <th>5</th>\n      <td>Biotin contributes to normal energy-yielding m...</td>\n      <td>['Biotin']</td>\n      <td>['energy-yielding metabolism']</td>\n      <td>Enhancing of a function</td>\n    </tr>\n    <tr>\n      <th>6</th>\n      <td>Biotin contributes to normal functioning of th...</td>\n      <td>['Biotin']</td>\n      <td>['nervous system']</td>\n      <td>Maintenance of a function</td>\n    </tr>\n    <tr>\n      <th>7</th>\n      <td>Biotin contributes to normal macronutrient met...</td>\n      <td>['Biotin', 'macronutrient']</td>\n      <td>['metabolism']</td>\n      <td>Maintenance of a function</td>\n    </tr>\n    <tr>\n      <th>8</th>\n      <td>Biotin contributes to normal psychological fun...</td>\n      <td>['Biotin']</td>\n      <td>['normal psychological function']</td>\n      <td>Maintenance of a function</td>\n    </tr>\n    <tr>\n      <th>9</th>\n      <td>Biotin contributes to the maintenance of norma...</td>\n      <td>['Biotin']</td>\n      <td>['hair']</td>\n      <td>Maintenance of a function</td>\n    </tr>\n    <tr>\n      <th>10</th>\n      <td>Biotin contributes to the maintenance of norma...</td>\n      <td>['Biotin']</td>\n      <td>['maintenance', 'normal mucous membranes']</td>\n      <td>Maintenance of a function</td>\n    </tr>\n    <tr>\n      <th>11</th>\n      <td>Biotin contributes to the maintenance of norma...</td>\n      <td>['Biotin']</td>\n      <td>['normal skin']</td>\n      <td>Maintenance of a function</td>\n    </tr>\n    <tr>\n      <th>12</th>\n      <td>Calcium contributes to normal blood clotting</td>\n      <td>['Calcium']</td>\n      <td>['blood clotting']</td>\n      <td>Maintenance of a function</td>\n    </tr>\n    <tr>\n      <th>13</th>\n      <td>Calcium contributes to normal energy-yielding ...</td>\n      <td>['Calcium']</td>\n      <td>['normal energy-yielding metabolism']</td>\n      <td>Maintenance of a function</td>\n    </tr>\n    <tr>\n      <th>14</th>\n      <td>Calcium contributes to normal muscle function</td>\n      <td>['Calcium']</td>\n      <td>['muscle function']</td>\n      <td>Maintenance of a function</td>\n    </tr>\n    <tr>\n      <th>15</th>\n      <td>Calcium contributes to normal neurotransmission</td>\n      <td>['Calcium']</td>\n      <td>['normal neurotransmission']</td>\n      <td>Maintenance of a function</td>\n    </tr>\n    <tr>\n      <th>16</th>\n      <td>Calcium contributes to the normal function of ...</td>\n      <td>['Calcium']</td>\n      <td>['digestive enzymes']</td>\n      <td>Maintenance of a function</td>\n    </tr>\n    <tr>\n      <th>17</th>\n      <td>Calcium has a role in the process of cell divi...</td>\n      <td>['Calcium']</td>\n      <td>['cell division', 'specialisation']</td>\n      <td>Maintenance of a function</td>\n    </tr>\n    <tr>\n      <th>18</th>\n      <td>Calcium is needed for the maintenance of norma...</td>\n      <td>['Calcium']</td>\n      <td>['normal bones']</td>\n      <td>Maintenance of a function</td>\n    </tr>\n    <tr>\n      <th>19</th>\n      <td>Calcium is needed for the maintenance of norma...</td>\n      <td>['Calcium']</td>\n      <td>['normal teeth']</td>\n      <td>Maintenance of a function</td>\n    </tr>\n  </tbody>\n</table>\n</div>"
     },
     "execution_count": 150,
     "metadata": {},
     "output_type": "execute_result"
    }
   ],
   "source": [
    "health_rel = annotations.copy()\n",
    "health_rel.loc[health_rel['Health relationship'].str.contains('maintenance', case=False), 'Health relationship'] = 'Maintenance of a function'\n",
    "health_rel.loc[health_rel['Health relationship'].str.contains('contributes', case=False), 'Health relationship'] = 'Maintenance of a function'\n",
    "health_rel.loc[health_rel['Health relationship'].str.contains('risk', case=False), 'Health relationship'] = 'Reducing a risk factor'\n",
    "health_rel.loc[health_rel['Health relationship'].str.contains('enhancing', case=False), 'Health relationship'] = 'Enhancing of a function'\n",
    "health_rel.head(20)"
   ],
   "metadata": {
    "collapsed": false
   }
  },
  {
   "cell_type": "markdown",
   "source": [
    "Now we evaluate the model"
   ],
   "metadata": {
    "collapsed": false
   }
  },
  {
   "cell_type": "code",
   "execution_count": 152,
   "outputs": [
    {
     "name": "stdout",
     "output_type": "stream",
     "text": [
      "Accuracy:  0.5884615384615385\n"
     ]
    }
   ],
   "source": [
    "matches = 0\n",
    "for i in range(len(df)):\n",
    "    true_rel = df['Relationship-effect'][i]\n",
    "    pred_rel = health_rel['Health relationship'][i]\n",
    "    if true_rel == pred_rel:\n",
    "        matches += 1\n",
    "print('Accuracy: ', matches/len(df))"
   ],
   "metadata": {
    "collapsed": false
   }
  }
 ],
 "metadata": {
  "kernelspec": {
   "display_name": "Python 3",
   "language": "python",
   "name": "python3"
  },
  "language_info": {
   "codemirror_mode": {
    "name": "ipython",
    "version": 2
   },
   "file_extension": ".py",
   "mimetype": "text/x-python",
   "name": "python",
   "nbconvert_exporter": "python",
   "pygments_lexer": "ipython2",
   "version": "2.7.6"
  }
 },
 "nbformat": 4,
 "nbformat_minor": 0
}
