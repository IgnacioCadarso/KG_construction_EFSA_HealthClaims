{
 "cells": [
  {
   "cell_type": "code",
   "execution_count": 142,
   "outputs": [
    {
     "data": {
      "text/plain": "                                               Claim  \\\n0  ALA contributes to the maintenance of normal b...   \n1  Activated charcoal contributes to reducing exe...   \n2  Barley grain fibre contributes to an increase ...   \n3  Beta-glucans contribute to the maintenance of ...   \n4  Betaine contributes to normal homocysteine met...   \n\n                         Food                  Phenotype  \\\n0  Alpha-linolenic acid (ALA)   Normal blood cholesterol   \n1          Activated charcoal       Excessive flatulence   \n2          Barley grain fibre    Increase in faecal bulk   \n3                Beta-glucans   Normal blood cholesterol   \n4                     Betaine  Normal blood homocysteine   \n\n         Relationship-effect                    Food Ontology Term  \\\n0  Maintenance of a function  https://foodb.ca/compounds/FDB012462   \n1       Enhancing a function  https://foodb.ca/compounds/FDB008898   \n2       Enhancing a function      https://foodb.ca/foods/FOOD00088   \n3  Maintenance of a function  https://foodb.ca/compounds/FDB005762   \n4  Maintenance of a function  https://foodb.ca/compounds/FDB009020   \n\n                                         foodDB_wiki  \n0  ['http://en.wikipedia.org/wiki/Alpha-Linolenic...  \n1  ['http://en.wikipedia.org/wiki/Activated_carbon']  \n2            ['http://en.wikipedia.org/wiki/Barley']  \n3            ['http://en.wikipedia.org/wiki/Glucan']  \n4           ['http://en.wikipedia.org/wiki/Betaine']  ",
      "text/html": "<div>\n<style scoped>\n    .dataframe tbody tr th:only-of-type {\n        vertical-align: middle;\n    }\n\n    .dataframe tbody tr th {\n        vertical-align: top;\n    }\n\n    .dataframe thead th {\n        text-align: right;\n    }\n</style>\n<table border=\"1\" class=\"dataframe\">\n  <thead>\n    <tr style=\"text-align: right;\">\n      <th></th>\n      <th>Claim</th>\n      <th>Food</th>\n      <th>Phenotype</th>\n      <th>Relationship-effect</th>\n      <th>Food Ontology Term</th>\n      <th>foodDB_wiki</th>\n    </tr>\n  </thead>\n  <tbody>\n    <tr>\n      <th>0</th>\n      <td>ALA contributes to the maintenance of normal b...</td>\n      <td>Alpha-linolenic acid (ALA)</td>\n      <td>Normal blood cholesterol</td>\n      <td>Maintenance of a function</td>\n      <td>https://foodb.ca/compounds/FDB012462</td>\n      <td>['http://en.wikipedia.org/wiki/Alpha-Linolenic...</td>\n    </tr>\n    <tr>\n      <th>1</th>\n      <td>Activated charcoal contributes to reducing exe...</td>\n      <td>Activated charcoal</td>\n      <td>Excessive flatulence</td>\n      <td>Enhancing a function</td>\n      <td>https://foodb.ca/compounds/FDB008898</td>\n      <td>['http://en.wikipedia.org/wiki/Activated_carbon']</td>\n    </tr>\n    <tr>\n      <th>2</th>\n      <td>Barley grain fibre contributes to an increase ...</td>\n      <td>Barley grain fibre</td>\n      <td>Increase in faecal bulk</td>\n      <td>Enhancing a function</td>\n      <td>https://foodb.ca/foods/FOOD00088</td>\n      <td>['http://en.wikipedia.org/wiki/Barley']</td>\n    </tr>\n    <tr>\n      <th>3</th>\n      <td>Beta-glucans contribute to the maintenance of ...</td>\n      <td>Beta-glucans</td>\n      <td>Normal blood cholesterol</td>\n      <td>Maintenance of a function</td>\n      <td>https://foodb.ca/compounds/FDB005762</td>\n      <td>['http://en.wikipedia.org/wiki/Glucan']</td>\n    </tr>\n    <tr>\n      <th>4</th>\n      <td>Betaine contributes to normal homocysteine met...</td>\n      <td>Betaine</td>\n      <td>Normal blood homocysteine</td>\n      <td>Maintenance of a function</td>\n      <td>https://foodb.ca/compounds/FDB009020</td>\n      <td>['http://en.wikipedia.org/wiki/Betaine']</td>\n    </tr>\n  </tbody>\n</table>\n</div>"
     },
     "execution_count": 142,
     "metadata": {},
     "output_type": "execute_result"
    }
   ],
   "source": [
    "import pandas as pd\n",
    "df = pd.read_csv('data/processed_claims.csv')\n",
    "df.head()"
   ],
   "metadata": {
    "collapsed": false
   }
  },
  {
   "cell_type": "markdown",
   "source": [
    "### ANOTATE CLAIMS USING OPENAI GPT-3.5 TURBO MODEL\n",
    "\n",
    "The text present in the 'Claim' column is sent to the OpenAI GPT-3.5 Turbo model for annotation. The function extracts the entities, classifies them, and extracts an association between those entities. The entities to extract are of the types: \"Food Entity\", \"Phenotype\". The function returns the results as a YAML object with the following fields:\n",
    "\n",
    "entities: the list of entities in the text, each entity is an object with the fields: label, type\n",
    "association: a list with the most important association between entities in the text, an association is an object with the fields: \"subject\" for the subject entity, \"predicate\" for the relation (maintenance of function, enhancing a function, reducing a risk factor), \"object\" for the object entity\n",
    "The function saves the annotated results in 'data/annotated_claims.csv' file."
   ],
   "metadata": {
    "collapsed": false
   }
  },
  {
   "cell_type": "code",
   "execution_count": 143,
   "outputs": [],
   "source": [
    "import requests\n",
    "import json\n",
    "\n",
    "def annotateClaimsKG():\n",
    "    url = 'https://api.collaboratory.semanticscience.org/openai-extract'\n",
    "    headers = {'content-type': 'application/json'}\n",
    "    params = {'prompt':'From the text below, extract the entities, classify them and extract an association between those entities, Entities to extract should be of one of those types: \"Food Entity\", \"Phenotype\". Return the results as a YAML object with the following fields: - entities: <the list of entities in the text, each entity is an object with the fields: label, type> - association: <a list with the most important association between entities in the text, an association is an object with the fields: \"subject\" for the subject entity, \"predicate\" for the relation (maintenance of function, enhancing a function, reducing a risk factor), \"object\" for the object entity>'}\n",
    "\n",
    "    annot = []\n",
    "    for i in range(0,len(df)):\n",
    "        while True:\n",
    "            data = {\n",
    "                'text': df['Claim'][i]\n",
    "            }\n",
    "            response = requests.post(url, params=params, data=json.dumps(data), headers=headers)\n",
    "            print(response)\n",
    "            try:\n",
    "                response = response.json()\n",
    "                print(response)\n",
    "                food_entities = [entity['label'] for entity in response['entities'] if entity['type'] == 'Food Entity']\n",
    "                phenotype_entities = [entity['label'] for entity in response['entities'] if entity['type'] == 'Phenotype']\n",
    "                health_relationships = [association['predicate'] for association in response['association']]\n",
    "                row = [df['Claim'][i], food_entities, phenotype_entities, health_relationships]\n",
    "                annot.append(row)\n",
    "                break\n",
    "            except:\n",
    "                pass\n",
    "    annotations = pd.DataFrame(annot, columns=['Claim', 'Food','Phenotype','Health relationship'])\n",
    "    annotations.to_csv('data/annotated_claims.csv', index=False)"
   ],
   "metadata": {
    "collapsed": false
   }
  },
  {
   "cell_type": "markdown",
   "source": [
    "### EVALUATE ANNOTATIONS OF OPENAI GPT3.5-TURBO MODEL ON FOOD TERMS\n",
    "Now we evaluate the annotations of the OpenAI GPT3.5-Turbo model on food terms using the precision, recall, and F1-score. The annotations are compared to the ground truth annotations present in the 'Food' column of the dataframe. The annotations are compared using the following rules:\n",
    "- if the true label is in the predicted label or vice versa, then it is a true positive\n",
    "- if the true label is not in the predicted label, then it is a false negative\n",
    "- if the predicted label is not in the true label, then it is a false positive"
   ],
   "metadata": {
    "collapsed": false
   }
  },
  {
   "cell_type": "code",
   "execution_count": 144,
   "outputs": [
    {
     "data": {
      "text/plain": "                                                 Claim  \\\n0    ALA contributes to the maintenance of normal b...   \n1    Activated charcoal contributes to reducing exe...   \n2    Barley grain fibre contributes to an increase ...   \n3    Beta-glucans contribute to the maintenance of ...   \n4    Betaine contributes to normal homocysteine met...   \n..                                                 ...   \n115  Phosphorus contributes to normal energy-yieldi...   \n116  Phosphorus contributes to normal function of c...   \n117  Phosphorus contributes to the maintenance of n...   \n118  Phosphorus contributes to the maintenance of n...   \n119  Plant sterols/stanols contribute to the mainte...   \n\n                               Food                          Phenotype  \\\n0      [Alpha-linolenic acid (ALA)]           Normal blood cholesterol   \n1              [Activated charcoal]               Excessive flatulence   \n2              [Barley grain fibre]            Increase in faecal bulk   \n3                    [Beta-glucans]           Normal blood cholesterol   \n4                         [Betaine]          Normal blood homocysteine   \n..                              ...                                ...   \n115                    [Phosphorus]  Normal energy-yielding metabolism   \n116                    [Phosphorus]   Normal function of cell membrane   \n117                    [Phosphorus]                        Normal bone   \n118                    [Phosphorus]                       Normal teeth   \n119  [Plant sterols, plant stanols]           Normal blood cholesterol   \n\n           Relationship-effect                    Food Ontology Term  \\\n0    Maintenance of a function  https://foodb.ca/compounds/FDB012462   \n1         Enhancing a function  https://foodb.ca/compounds/FDB008898   \n2         Enhancing a function      https://foodb.ca/foods/FOOD00088   \n3    Maintenance of a function  https://foodb.ca/compounds/FDB005762   \n4    Maintenance of a function  https://foodb.ca/compounds/FDB009020   \n..                         ...                                   ...   \n115  Maintenance of a function  https://foodb.ca/compounds/FDB003520   \n116  Maintenance of a function  https://foodb.ca/compounds/FDB003520   \n117  Maintenance of a function  https://foodb.ca/compounds/FDB003520   \n118  Maintenance of a function  https://foodb.ca/compounds/FDB003520   \n119  Maintenance of a function  https://foodb.ca/compounds/FDB003714   \n\n                                           foodDB_wiki  \n0    ['http://en.wikipedia.org/wiki/Alpha-Linolenic...  \n1    ['http://en.wikipedia.org/wiki/Activated_carbon']  \n2              ['http://en.wikipedia.org/wiki/Barley']  \n3              ['http://en.wikipedia.org/wiki/Glucan']  \n4             ['http://en.wikipedia.org/wiki/Betaine']  \n..                                                 ...  \n115        ['http://en.wikipedia.org/wiki/Phosphorus']  \n116        ['http://en.wikipedia.org/wiki/Phosphorus']  \n117        ['http://en.wikipedia.org/wiki/Phosphorus']  \n118        ['http://en.wikipedia.org/wiki/Phosphorus']  \n119            ['http://en.wikipedia.org/wiki/Sterol']  \n\n[120 rows x 6 columns]",
      "text/html": "<div>\n<style scoped>\n    .dataframe tbody tr th:only-of-type {\n        vertical-align: middle;\n    }\n\n    .dataframe tbody tr th {\n        vertical-align: top;\n    }\n\n    .dataframe thead th {\n        text-align: right;\n    }\n</style>\n<table border=\"1\" class=\"dataframe\">\n  <thead>\n    <tr style=\"text-align: right;\">\n      <th></th>\n      <th>Claim</th>\n      <th>Food</th>\n      <th>Phenotype</th>\n      <th>Relationship-effect</th>\n      <th>Food Ontology Term</th>\n      <th>foodDB_wiki</th>\n    </tr>\n  </thead>\n  <tbody>\n    <tr>\n      <th>0</th>\n      <td>ALA contributes to the maintenance of normal b...</td>\n      <td>[Alpha-linolenic acid (ALA)]</td>\n      <td>Normal blood cholesterol</td>\n      <td>Maintenance of a function</td>\n      <td>https://foodb.ca/compounds/FDB012462</td>\n      <td>['http://en.wikipedia.org/wiki/Alpha-Linolenic...</td>\n    </tr>\n    <tr>\n      <th>1</th>\n      <td>Activated charcoal contributes to reducing exe...</td>\n      <td>[Activated charcoal]</td>\n      <td>Excessive flatulence</td>\n      <td>Enhancing a function</td>\n      <td>https://foodb.ca/compounds/FDB008898</td>\n      <td>['http://en.wikipedia.org/wiki/Activated_carbon']</td>\n    </tr>\n    <tr>\n      <th>2</th>\n      <td>Barley grain fibre contributes to an increase ...</td>\n      <td>[Barley grain fibre]</td>\n      <td>Increase in faecal bulk</td>\n      <td>Enhancing a function</td>\n      <td>https://foodb.ca/foods/FOOD00088</td>\n      <td>['http://en.wikipedia.org/wiki/Barley']</td>\n    </tr>\n    <tr>\n      <th>3</th>\n      <td>Beta-glucans contribute to the maintenance of ...</td>\n      <td>[Beta-glucans]</td>\n      <td>Normal blood cholesterol</td>\n      <td>Maintenance of a function</td>\n      <td>https://foodb.ca/compounds/FDB005762</td>\n      <td>['http://en.wikipedia.org/wiki/Glucan']</td>\n    </tr>\n    <tr>\n      <th>4</th>\n      <td>Betaine contributes to normal homocysteine met...</td>\n      <td>[Betaine]</td>\n      <td>Normal blood homocysteine</td>\n      <td>Maintenance of a function</td>\n      <td>https://foodb.ca/compounds/FDB009020</td>\n      <td>['http://en.wikipedia.org/wiki/Betaine']</td>\n    </tr>\n    <tr>\n      <th>...</th>\n      <td>...</td>\n      <td>...</td>\n      <td>...</td>\n      <td>...</td>\n      <td>...</td>\n      <td>...</td>\n    </tr>\n    <tr>\n      <th>115</th>\n      <td>Phosphorus contributes to normal energy-yieldi...</td>\n      <td>[Phosphorus]</td>\n      <td>Normal energy-yielding metabolism</td>\n      <td>Maintenance of a function</td>\n      <td>https://foodb.ca/compounds/FDB003520</td>\n      <td>['http://en.wikipedia.org/wiki/Phosphorus']</td>\n    </tr>\n    <tr>\n      <th>116</th>\n      <td>Phosphorus contributes to normal function of c...</td>\n      <td>[Phosphorus]</td>\n      <td>Normal function of cell membrane</td>\n      <td>Maintenance of a function</td>\n      <td>https://foodb.ca/compounds/FDB003520</td>\n      <td>['http://en.wikipedia.org/wiki/Phosphorus']</td>\n    </tr>\n    <tr>\n      <th>117</th>\n      <td>Phosphorus contributes to the maintenance of n...</td>\n      <td>[Phosphorus]</td>\n      <td>Normal bone</td>\n      <td>Maintenance of a function</td>\n      <td>https://foodb.ca/compounds/FDB003520</td>\n      <td>['http://en.wikipedia.org/wiki/Phosphorus']</td>\n    </tr>\n    <tr>\n      <th>118</th>\n      <td>Phosphorus contributes to the maintenance of n...</td>\n      <td>[Phosphorus]</td>\n      <td>Normal teeth</td>\n      <td>Maintenance of a function</td>\n      <td>https://foodb.ca/compounds/FDB003520</td>\n      <td>['http://en.wikipedia.org/wiki/Phosphorus']</td>\n    </tr>\n    <tr>\n      <th>119</th>\n      <td>Plant sterols/stanols contribute to the mainte...</td>\n      <td>[Plant sterols, plant stanols]</td>\n      <td>Normal blood cholesterol</td>\n      <td>Maintenance of a function</td>\n      <td>https://foodb.ca/compounds/FDB003714</td>\n      <td>['http://en.wikipedia.org/wiki/Sterol']</td>\n    </tr>\n  </tbody>\n</table>\n<p>120 rows × 6 columns</p>\n</div>"
     },
     "execution_count": 144,
     "metadata": {},
     "output_type": "execute_result"
    }
   ],
   "source": [
    "import re\n",
    "for i in range(len(df)):\n",
    "    s = re.split(', | & | and | or ',df['Food'][i])\n",
    "    s = [x for x in s if len(x) > 1]\n",
    "    df['Food'][i] = s\n",
    "df.head(120)"
   ],
   "metadata": {
    "collapsed": false
   }
  },
  {
   "cell_type": "code",
   "execution_count": 145,
   "outputs": [
    {
     "name": "stdout",
     "output_type": "stream",
     "text": [
      "[[238, 56], [60, 0]]\n",
      "Precision:  0.7986577181208053\n",
      "Recall:  0.8095238095238095\n",
      "F1:  0.8040540540540542\n"
     ]
    }
   ],
   "source": [
    "import ast\n",
    "annotations = pd.read_csv('data/annotated_claims.csv')\n",
    "\n",
    "def evaluateAnnotations():\n",
    "    confusion_matrix = [[0,0],[0,0]]\n",
    "\n",
    "    for i in range(len(df)):\n",
    "        true_labels = df['Food'][i].copy()\n",
    "        predicted_labels = ast.literal_eval(annotations['Food'][i])\n",
    "        for tlabel in true_labels:\n",
    "            if not isinstance(tlabel,str):\n",
    "                tlabel = str(tlabel)\n",
    "            for plabel in predicted_labels:\n",
    "                if not isinstance(plabel,str):\n",
    "                    plabel = str(plabel)\n",
    "                if tlabel in plabel or plabel in tlabel: # if true label is in predicted label or vice versa\n",
    "                    confusion_matrix[0][0] += 1 # add to true positive\n",
    "                    true_labels.remove(tlabel)\n",
    "                    predicted_labels.remove(plabel)\n",
    "        confusion_matrix[0][1] += len(true_labels) # add to false negative (unmatched true labels)\n",
    "        confusion_matrix[1][0] += len(predicted_labels) # add to false positive (unmatched predicted labels)\n",
    "\n",
    "    precision = confusion_matrix[0][0]/(confusion_matrix[0][0]+confusion_matrix[1][0])\n",
    "    recall = confusion_matrix[0][0]/(confusion_matrix[0][0]+confusion_matrix[0][1])\n",
    "    f1 = 2*(precision*recall)/(precision+recall)\n",
    "    print(confusion_matrix)\n",
    "    print('Precision: ', precision)\n",
    "    print('Recall: ', recall)\n",
    "    print('F1: ',f1)\n",
    "evaluateAnnotations()"
   ],
   "metadata": {
    "collapsed": false
   }
  },
  {
   "cell_type": "markdown",
   "source": [
    "### EVALUATION OF ENTITY LINKING OF WIKIFIER VS FOODB WIKIPEDIA URLS (OF TRUE LABELS)\n"
   ],
   "metadata": {
    "collapsed": false
   }
  },
  {
   "cell_type": "code",
   "execution_count": 146,
   "outputs": [],
   "source": [
    "from wikifier import CallWikifier\n",
    "def queryWikifier(dataf, path):\n",
    "    data = []\n",
    "    for i in range(len(dataf)):\n",
    "        labels = dataf['Food'][i]\n",
    "        for label in labels:\n",
    "            response = CallWikifier(label)\n",
    "            wiki_annotations = response[\"annotations\"]\n",
    "            dbpedia_iris = []\n",
    "            wiki_urls = []\n",
    "            for wannotation in wiki_annotations:\n",
    "                dbpedia_iri = wannotation[\"dbPediaIri\"]\n",
    "                wiki_url = wannotation[\"url\"]\n",
    "                wiki_urls.append(wiki_url)\n",
    "                dbpedia_iris.append(dbpedia_iri)\n",
    "            row = [dataf['Claim'][i], label, dbpedia_iris, wiki_urls]\n",
    "            data.append(row)\n",
    "    wikifier_annotations = pd.DataFrame(data, columns=['Claim', 'food','dbpedia_iris', 'wiki_urls'])\n",
    "    wikifier_annotations.to_csv(path, index=False)\n",
    "#queryWikifier(df, 'data/wiki_iris_true.csv')"
   ],
   "metadata": {
    "collapsed": false
   }
  },
  {
   "cell_type": "code",
   "execution_count": 147,
   "outputs": [
    {
     "name": "stdout",
     "output_type": "stream",
     "text": [
      "[[162, 72], [209, 0]]\n",
      "Precision:  0.4366576819407008\n",
      "Recall:  0.6923076923076923\n",
      "F1:  0.5355371900826446\n"
     ]
    }
   ],
   "source": [
    "wiki_iris_true = pd.read_csv('data/wiki_iris_true.csv')\n",
    "def evaluateEL(dataf):\n",
    "    confusion_matrix = [[0,0],[0,0]]\n",
    "    for i in range(len(df)):\n",
    "        true_labels = df['foodDB_wiki'][i]\n",
    "        if pd.isna(true_labels):\n",
    "            continue\n",
    "        true_labels = ast.literal_eval(true_labels)\n",
    "        predicted_labels = dataf[dataf['Claim'] == df['Claim'][i]]\n",
    "        for predicted_label in predicted_labels['wiki_urls']:\n",
    "            predicted_label = ast.literal_eval(predicted_label)\n",
    "            for tlabel in true_labels:\n",
    "                for plabel in predicted_label:\n",
    "                    if plabel == tlabel:\n",
    "                        confusion_matrix[0][0] += 1 # add to true positive\n",
    "                        true_labels.remove(tlabel)\n",
    "                        predicted_label.remove(plabel)\n",
    "            confusion_matrix[0][1] += len(true_labels) # add to false negative (unmatched true labels)\n",
    "            confusion_matrix[1][0] += len(predicted_label) # add to false positive (unmatched predicted labels)\n",
    "\n",
    "    precision = confusion_matrix[0][0]/(confusion_matrix[0][0]+confusion_matrix[1][0])\n",
    "    recall = confusion_matrix[0][0]/(confusion_matrix[0][0]+confusion_matrix[0][1])\n",
    "    f1 = 2*(precision*recall)/(precision+recall)\n",
    "    print(confusion_matrix)\n",
    "    print('Precision: ', precision)\n",
    "    print('Recall: ', recall)\n",
    "    print('F1: ',f1)\n",
    "evaluateEL(wiki_iris_true)"
   ],
   "metadata": {
    "collapsed": false
   }
  },
  {
   "cell_type": "markdown",
   "source": [
    "### EVLUATION OF ENTITY LINKING OF WIKIFIER VS FOODB WIKIPEDIA URLS (OF PREDICTED LABELS)\n",
    "First we query the Wikifier API to get the dbpedia iris and wikipedia urls of all the predicted food entities."
   ],
   "metadata": {
    "collapsed": false
   }
  },
  {
   "cell_type": "code",
   "execution_count": 148,
   "outputs": [],
   "source": [
    "# get the dbpedia iris of all the predicted food entities\n",
    "def queryWikifier():\n",
    "    data = []\n",
    "    for i in range(len(annotations)):\n",
    "        predicted_labels = ast.literal_eval(annotations['Food'][i])\n",
    "        for plabel in predicted_labels:\n",
    "            response = CallWikifier(plabel)\n",
    "            wiki_annotations = response[\"annotations\"]\n",
    "            dbpedia_iris = []\n",
    "            wiki_urls = []\n",
    "            for wannotation in wiki_annotations:\n",
    "                dbpedia_iri = wannotation[\"dbPediaIri\"]\n",
    "                wiki_url = wannotation[\"url\"]\n",
    "                wiki_urls.append(wiki_url)\n",
    "                dbpedia_iris.append(dbpedia_iri)\n",
    "            row = [annotations['Claim'][i], plabel, dbpedia_iris, wiki_urls]\n",
    "            data.append(row)\n",
    "    wikifier_annotations = pd.DataFrame(data, columns=['Claim', 'predicted_label','dbpedia_iris', 'wiki_urls'])\n",
    "    wikifier_annotations.to_csv('data/wiki_iris_predicted.csv', index=False)"
   ],
   "metadata": {
    "collapsed": false
   }
  },
  {
   "cell_type": "markdown",
   "source": [
    "Then we compare the urls from Wikifier to the wikipedia urls of the food entities in the processed_claims dataset. If the urls are the same, then the entity linking is correct. We calculate the precision, recall, and F1-score of the entity linking."
   ],
   "metadata": {
    "collapsed": false
   }
  },
  {
   "cell_type": "code",
   "execution_count": 149,
   "outputs": [
    {
     "name": "stdout",
     "output_type": "stream",
     "text": [
      "[[157, 82], [181, 0]]\n",
      "Precision:  0.46449704142011833\n",
      "Recall:  0.6569037656903766\n",
      "F1:  0.5441941074523398\n"
     ]
    }
   ],
   "source": [
    "wiki_iris_predicted = pd.read_csv('data/wiki_iris_predicted.csv')\n",
    "evaluateEL(wiki_iris_predicted)"
   ],
   "metadata": {
    "collapsed": false
   }
  },
  {
   "cell_type": "markdown",
   "source": [
    "### IMPROVING NER WITH WIKIFIER\n",
    "\n",
    "\n",
    "With this approach the entities extracted by the GPT model are then queried against Wikifier to get the Wikidata ID of the entity. Using the DBpedia IRI the entity is accepted if it is of type Food or ChemicalSubstance. The annotations are compared to the ground truth annotations present in the 'Food' column of the dataframe. The annotations are compared the same way as before."
   ],
   "metadata": {
    "collapsed": false
   }
  },
  {
   "cell_type": "code",
   "execution_count": 150,
   "outputs": [],
   "source": [
    "# Filter the predicted labels based on the dbpedia iris\n",
    "\n",
    "from SPARQLWrapper import SPARQLWrapper, JSON\n",
    "\n",
    "def queryDBpedia():\n",
    "    wiki_iris = pd.read_csv('data/wiki_iris.csv')\n",
    "\n",
    "    sparql = SPARQLWrapper(\"http://dbpedia.org/sparql\")\n",
    "    sparql.setReturnFormat(JSON)\n",
    "\n",
    "    isfoodlist = []\n",
    "    for i in range(len(wiki_iris)):\n",
    "        entities = ast.literal_eval(wiki_iris[\"dbpedia_iris\"].iloc[i])\n",
    "        isfoodCount = 0\n",
    "        for entity in entities:\n",
    "            query = f'''\n",
    "                ASK {{\n",
    "                {{<{entity}> rdf:type ?a.\n",
    "                ?a rdfs:subClassOf* dbo:Food}}\n",
    "                union\n",
    "                {{<{entity}> rdf:type ?b.\n",
    "                ?b rdfs:subClassOf* dbo:Condiment}}\n",
    "                union\n",
    "                {{<{entity}> rdf:type ?c.\n",
    "                ?c rdfs:subClassOf* dbo:Beverage}}\n",
    "                union\n",
    "                {{<{entity}> rdf:type ?d.\n",
    "                ?d rdfs:subClassOf* dbo:Plant}}\n",
    "                union\n",
    "                {{<{entity}> rdf:type ?e.\n",
    "                ?e rdfs:subClassOf* dbo:Animal}}\n",
    "                union\n",
    "                {{<{entity}> rdf:type ?f.\n",
    "                ?f rdfs:subClassOf* dbo:Fungus}}\n",
    "                union\n",
    "                {{<{entity}> rdf:type ?g.\n",
    "                ?g rdfs:subClassOf* dbo:ChemicalSubstance}}\n",
    "                }}\n",
    "            '''\n",
    "            sparql.setQuery(query)\n",
    "            results = sparql.query().convert()\n",
    "            isfood = results[\"boolean\"]\n",
    "            if isfood:\n",
    "                isfoodCount += 1\n",
    "        if isfoodCount > 0:\n",
    "            isfoodlist.append(1)\n",
    "        else:\n",
    "            isfoodlist.append(0)\n",
    "    wiki_iris.insert(3, \"isFood\", isfoodlist, True)\n",
    "    wiki_iris.to_csv('data/wiki_iris.csv', index=False)"
   ],
   "metadata": {
    "collapsed": false
   }
  },
  {
   "cell_type": "code",
   "execution_count": 151,
   "outputs": [
    {
     "data": {
      "text/plain": "                                                Claim  \\\n0   ALA contributes to the maintenance of normal b...   \n1   Activated charcoal contributes to reducing exe...   \n2   Barley grain fibre contributes to an increase ...   \n3   Beta-glucans contribute to the maintenance of ...   \n4   Betaine contributes to normal homocysteine met...   \n..                                                ...   \n95  Manganese contributes to the normal formation ...   \n96  Manganese contributes to the protection of cel...   \n97  Meat or fish contributes to the improvement of...   \n98  Melatonin contributes to the allevation of sub...   \n99  Melatonin contributes to the reduction of time...   \n\n                                       Food  \\\n0                                        []   \n1                    ['Activated charcoal']   \n2                    ['Barley grain fibre']   \n3                                        []   \n4                                        []   \n..                                      ...   \n95                            ['Manganese']   \n96                            ['Manganese']   \n97  ['fish', 'other foods containing iron']   \n98                            ['Melatonin']   \n99                            ['Melatonin']   \n\n                                     Phenotype  \\\n0          ['normal blood cholesterol levels']   \n1                      ['exessive flatulence']   \n2                              ['faecal bulk']   \n3          ['normal blood cholesterol levels']   \n4                  ['homocysteine metabolism']   \n..                                         ...   \n95                      ['connective tissues']   \n96               ['cells', 'oxidative stress']   \n97                             ['improvement']   \n98          ['subjective feelings', 'jet lag']   \n99  ['reduction of time taken to fall asleep']   \n\n                                  Health relationship  \n0               ['contributes to the maintenance of']  \n1                          ['reducing a risk factor']  \n2                   ['contributes to an increase in']  \n3                                     ['maintenance']  \n4                                  ['contributes to']  \n..                                                ...  \n95                           ['enhancing a function']  \n96       ['enhances function', 'reduces risk factor']  \n97  ['enhancing a function', 'maintenance of funct...  \n98                                ['contributing to']  \n99                         ['reducing a risk factor']  \n\n[100 rows x 4 columns]",
      "text/html": "<div>\n<style scoped>\n    .dataframe tbody tr th:only-of-type {\n        vertical-align: middle;\n    }\n\n    .dataframe tbody tr th {\n        vertical-align: top;\n    }\n\n    .dataframe thead th {\n        text-align: right;\n    }\n</style>\n<table border=\"1\" class=\"dataframe\">\n  <thead>\n    <tr style=\"text-align: right;\">\n      <th></th>\n      <th>Claim</th>\n      <th>Food</th>\n      <th>Phenotype</th>\n      <th>Health relationship</th>\n    </tr>\n  </thead>\n  <tbody>\n    <tr>\n      <th>0</th>\n      <td>ALA contributes to the maintenance of normal b...</td>\n      <td>[]</td>\n      <td>['normal blood cholesterol levels']</td>\n      <td>['contributes to the maintenance of']</td>\n    </tr>\n    <tr>\n      <th>1</th>\n      <td>Activated charcoal contributes to reducing exe...</td>\n      <td>['Activated charcoal']</td>\n      <td>['exessive flatulence']</td>\n      <td>['reducing a risk factor']</td>\n    </tr>\n    <tr>\n      <th>2</th>\n      <td>Barley grain fibre contributes to an increase ...</td>\n      <td>['Barley grain fibre']</td>\n      <td>['faecal bulk']</td>\n      <td>['contributes to an increase in']</td>\n    </tr>\n    <tr>\n      <th>3</th>\n      <td>Beta-glucans contribute to the maintenance of ...</td>\n      <td>[]</td>\n      <td>['normal blood cholesterol levels']</td>\n      <td>['maintenance']</td>\n    </tr>\n    <tr>\n      <th>4</th>\n      <td>Betaine contributes to normal homocysteine met...</td>\n      <td>[]</td>\n      <td>['homocysteine metabolism']</td>\n      <td>['contributes to']</td>\n    </tr>\n    <tr>\n      <th>...</th>\n      <td>...</td>\n      <td>...</td>\n      <td>...</td>\n      <td>...</td>\n    </tr>\n    <tr>\n      <th>95</th>\n      <td>Manganese contributes to the normal formation ...</td>\n      <td>['Manganese']</td>\n      <td>['connective tissues']</td>\n      <td>['enhancing a function']</td>\n    </tr>\n    <tr>\n      <th>96</th>\n      <td>Manganese contributes to the protection of cel...</td>\n      <td>['Manganese']</td>\n      <td>['cells', 'oxidative stress']</td>\n      <td>['enhances function', 'reduces risk factor']</td>\n    </tr>\n    <tr>\n      <th>97</th>\n      <td>Meat or fish contributes to the improvement of...</td>\n      <td>['fish', 'other foods containing iron']</td>\n      <td>['improvement']</td>\n      <td>['enhancing a function', 'maintenance of funct...</td>\n    </tr>\n    <tr>\n      <th>98</th>\n      <td>Melatonin contributes to the allevation of sub...</td>\n      <td>['Melatonin']</td>\n      <td>['subjective feelings', 'jet lag']</td>\n      <td>['contributing to']</td>\n    </tr>\n    <tr>\n      <th>99</th>\n      <td>Melatonin contributes to the reduction of time...</td>\n      <td>['Melatonin']</td>\n      <td>['reduction of time taken to fall asleep']</td>\n      <td>['reducing a risk factor']</td>\n    </tr>\n  </tbody>\n</table>\n<p>100 rows × 4 columns</p>\n</div>"
     },
     "execution_count": 151,
     "metadata": {},
     "output_type": "execute_result"
    }
   ],
   "source": [
    "for i in range(len(annotations)):\n",
    "    predicted_labels = ast.literal_eval(annotations['Food'][i])\n",
    "    for plabel in predicted_labels:\n",
    "        for j in range(len(wiki_iris)):\n",
    "            if plabel == wiki_iris['predicted_label'][j]:\n",
    "                if wiki_iris['isFood'][j] == 0:\n",
    "                    predicted_labels.remove(plabel)\n",
    "                    annotations['Food'][i] = str(predicted_labels)\n",
    "                    break\n",
    "annotations.head(100)"
   ],
   "metadata": {
    "collapsed": false
   }
  },
  {
   "cell_type": "code",
   "execution_count": 152,
   "outputs": [
    {
     "name": "stdout",
     "output_type": "stream",
     "text": [
      "[[168, 126], [36, 0]]\n",
      "Precision:  0.8235294117647058\n",
      "Recall:  0.5714285714285714\n",
      "F1:  0.6746987951807228\n"
     ]
    }
   ],
   "source": [
    "confusion_matrix = [[0,0],[0,0]]\n",
    "for i in range(len(df)):\n",
    "    true_labels = df['Food'][i]\n",
    "    if len(annotations['Food'][i]) == 0:\n",
    "        predicted_labels = []\n",
    "        confusion_matrix[0][1] += len(true_labels) # add to false negative (unmatched true labels)\n",
    "        confusion_matrix[1][0] += len(predicted_labels) # add to false positive (unmatched predicted labels)\n",
    "    else:\n",
    "        predicted_labels = ast.literal_eval(annotations['Food'][i])\n",
    "        for tlabel in true_labels:\n",
    "            if not isinstance(tlabel,str):\n",
    "                tlabel = str(tlabel)\n",
    "            for plabel in predicted_labels:\n",
    "                if not isinstance(plabel,str):\n",
    "                    plabel = str(plabel)\n",
    "                if tlabel in plabel or plabel in tlabel: # if true label is in predicted label or vice versa\n",
    "                    confusion_matrix[0][0] += 1 # add to true positive\n",
    "                    true_labels.remove(tlabel)\n",
    "                    predicted_labels.remove(plabel)\n",
    "        confusion_matrix[0][1] += len(true_labels) # add to false negative (unmatched true labels)\n",
    "        confusion_matrix[1][0] += len(predicted_labels) # add to false positive (unmatched predicted labels)\n",
    "\n",
    "precision = confusion_matrix[0][0]/(confusion_matrix[0][0]+confusion_matrix[1][0])\n",
    "recall = confusion_matrix[0][0]/(confusion_matrix[0][0]+confusion_matrix[0][1])\n",
    "f1 = 2*(precision*recall)/(precision+recall)\n",
    "print(confusion_matrix)\n",
    "print('Precision: ', precision)\n",
    "print('Recall: ', recall)\n",
    "print('F1: ',f1)"
   ],
   "metadata": {
    "collapsed": false
   }
  },
  {
   "cell_type": "code",
   "execution_count": 152,
   "outputs": [],
   "source": [],
   "metadata": {
    "collapsed": false
   }
  },
  {
   "cell_type": "code",
   "execution_count": 152,
   "outputs": [],
   "source": [],
   "metadata": {
    "collapsed": false
   }
  }
 ],
 "metadata": {
  "kernelspec": {
   "display_name": "Python 3",
   "language": "python",
   "name": "python3"
  },
  "language_info": {
   "codemirror_mode": {
    "name": "ipython",
    "version": 2
   },
   "file_extension": ".py",
   "mimetype": "text/x-python",
   "name": "python",
   "nbconvert_exporter": "python",
   "pygments_lexer": "ipython2",
   "version": "2.7.6"
  }
 },
 "nbformat": 4,
 "nbformat_minor": 0
}
