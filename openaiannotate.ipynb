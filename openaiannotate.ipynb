{
 "cells": [
  {
   "cell_type": "code",
   "execution_count": 1,
   "outputs": [
    {
     "data": {
      "text/plain": "                                               Claim  \\\n0  ALA contributes to the maintenance of normal b...   \n1  Activated charcoal contributes to reducing exe...   \n2  Barley grain fibre contributes to an increase ...   \n3  Beta-glucans contribute to the maintenance of ...   \n4  Betaine contributes to normal homocysteine met...   \n\n                         Food                  Phenotype  \\\n0  Alpha-linolenic acid (ALA)   Normal blood cholesterol   \n1          Activated charcoal       Excessive flatulence   \n2          Barley grain fibre    Increase in faecal bulk   \n3                Beta-glucans   Normal blood cholesterol   \n4                     Betaine  Normal blood homocysteine   \n\n         Relationship-effect  \n0  Maintenance of a function  \n1       Enhancing a function  \n2       Enhancing a function  \n3  Maintenance of a function  \n4  Maintenance of a function  ",
      "text/html": "<div>\n<style scoped>\n    .dataframe tbody tr th:only-of-type {\n        vertical-align: middle;\n    }\n\n    .dataframe tbody tr th {\n        vertical-align: top;\n    }\n\n    .dataframe thead th {\n        text-align: right;\n    }\n</style>\n<table border=\"1\" class=\"dataframe\">\n  <thead>\n    <tr style=\"text-align: right;\">\n      <th></th>\n      <th>Claim</th>\n      <th>Food</th>\n      <th>Phenotype</th>\n      <th>Relationship-effect</th>\n    </tr>\n  </thead>\n  <tbody>\n    <tr>\n      <th>0</th>\n      <td>ALA contributes to the maintenance of normal b...</td>\n      <td>Alpha-linolenic acid (ALA)</td>\n      <td>Normal blood cholesterol</td>\n      <td>Maintenance of a function</td>\n    </tr>\n    <tr>\n      <th>1</th>\n      <td>Activated charcoal contributes to reducing exe...</td>\n      <td>Activated charcoal</td>\n      <td>Excessive flatulence</td>\n      <td>Enhancing a function</td>\n    </tr>\n    <tr>\n      <th>2</th>\n      <td>Barley grain fibre contributes to an increase ...</td>\n      <td>Barley grain fibre</td>\n      <td>Increase in faecal bulk</td>\n      <td>Enhancing a function</td>\n    </tr>\n    <tr>\n      <th>3</th>\n      <td>Beta-glucans contribute to the maintenance of ...</td>\n      <td>Beta-glucans</td>\n      <td>Normal blood cholesterol</td>\n      <td>Maintenance of a function</td>\n    </tr>\n    <tr>\n      <th>4</th>\n      <td>Betaine contributes to normal homocysteine met...</td>\n      <td>Betaine</td>\n      <td>Normal blood homocysteine</td>\n      <td>Maintenance of a function</td>\n    </tr>\n  </tbody>\n</table>\n</div>"
     },
     "execution_count": 1,
     "metadata": {},
     "output_type": "execute_result"
    }
   ],
   "source": [
    "import pandas as pd\n",
    "\n",
    "df = pd.read_csv('data/ClaimsKG.csv')\n",
    "df2 = pd.read_csv('data/ClaimsKG2.csv')\n",
    "frames = [df, df2]\n",
    "df = pd.concat(frames)\n",
    "df = df[['Claim', 'Food','Phenotype','Relationship-effect']]\n",
    "df = df.dropna()\n",
    "df.index = range(0,len(df))\n",
    "df.head()"
   ],
   "metadata": {
    "collapsed": false
   }
  },
  {
   "cell_type": "markdown",
   "source": [
    "### ANOTATE CLAIMS USING OPENAI GPT-3.5 TURBO MODEL\n",
    "\n",
    "The text present in the 'Claim' column is sent to the OpenAI GPT-3.5 Turbo model for annotation. The function extracts the entities, classifies them, and extracts an association between those entities. The entities to extract are of the types: \"Food Entity\", \"Phenotype\". The function returns the results as a YAML object with the following fields:\n",
    "\n",
    "entities: the list of entities in the text, each entity is an object with the fields: label, type\n",
    "association: a list with the most important association between entities in the text, an association is an object with the fields: \"subject\" for the subject entity, \"predicate\" for the relation (maintenance of function, enhancing a function, reducing a risk factor), \"object\" for the object entity\n",
    "The function saves the annotated results in 'data/annotated_claims.csv' file."
   ],
   "metadata": {
    "collapsed": false
   }
  },
  {
   "cell_type": "code",
   "execution_count": 2,
   "outputs": [],
   "source": [
    "import requests\n",
    "import json\n",
    "\n",
    "def annotateClaimsKG():\n",
    "    url = 'https://api.collaboratory.semanticscience.org/openai-extract'\n",
    "    headers = {'content-type': 'application/json'}\n",
    "    params = {'prompt':'From the text below, extract the entities, classify them and extract an association between those entities, Entities to extract should be of one of those types: \"Food Entity\", \"Phenotype\". Return the results as a YAML object with the following fields: - entities: <the list of entities in the text, each entity is an object with the fields: label, type> - association: <a list with the most important association between entities in the text, an association is an object with the fields: \"subject\" for the subject entity, \"predicate\" for the relation (maintenance of function, enhancing a function, reducing a risk factor), \"object\" for the object entity>'}\n",
    "\n",
    "    annot = []\n",
    "    for i in range(0,len(df)):\n",
    "        while True:\n",
    "            data = {\n",
    "                'text': df['Claim'][i]\n",
    "            }\n",
    "            response = requests.post(url, params=params, data=json.dumps(data), headers=headers)\n",
    "            print(response)\n",
    "            try:\n",
    "                response = response.json()\n",
    "                print(response)\n",
    "                food_entities = [entity['label'] for entity in response['entities'] if entity['type'] == 'Food Entity']\n",
    "                phenotype_entities = [entity['label'] for entity in response['entities'] if entity['type'] == 'Phenotype']\n",
    "                health_relationships = [association['predicate'] for association in response['association']]\n",
    "                row = [df['Claim'][i], food_entities, phenotype_entities, health_relationships]\n",
    "                annot.append(row)\n",
    "                break\n",
    "            except:\n",
    "                pass\n",
    "    annotations = pd.DataFrame(annot, columns=['Claim', 'Food','Phenotype','Health relationship'])\n",
    "    annotations.to_csv('data/annotated_claims.csv', index=False)"
   ],
   "metadata": {
    "collapsed": false
   }
  },
  {
   "cell_type": "markdown",
   "source": [
    "### EVALUATE ANNOTATIONS OF OPENAI GPT3.5-TURBO MODEL ON FOOD TERMS\n",
    "Now we evaluate the annotations of the OpenAI GPT3.5-Turbo model on food terms using the precision, recall, and F1-score. The annotations are compared to the ground truth annotations present in the 'Food' column of the dataframe. The annotations are compared using the following rules:\n",
    "- if the true label is in the predicted label or vice versa, then it is a true positive\n",
    "- if the true label is not in the predicted label, then it is a false negative\n",
    "- if the predicted label is not in the true label, then it is a false positive"
   ],
   "metadata": {
    "collapsed": false
   }
  },
  {
   "cell_type": "code",
   "execution_count": 3,
   "outputs": [
    {
     "data": {
      "text/plain": "                                               Claim  \\\n0  ALA contributes to the maintenance of normal b...   \n1  Activated charcoal contributes to reducing exe...   \n2  Barley grain fibre contributes to an increase ...   \n3  Beta-glucans contribute to the maintenance of ...   \n4  Betaine contributes to normal homocysteine met...   \n\n                           Food                  Phenotype  \\\n0  [Alpha-linolenic acid (ALA)]   Normal blood cholesterol   \n1          [Activated charcoal]       Excessive flatulence   \n2          [Barley grain fibre]    Increase in faecal bulk   \n3                [Beta-glucans]   Normal blood cholesterol   \n4                     [Betaine]  Normal blood homocysteine   \n\n         Relationship-effect  \n0  Maintenance of a function  \n1       Enhancing a function  \n2       Enhancing a function  \n3  Maintenance of a function  \n4  Maintenance of a function  ",
      "text/html": "<div>\n<style scoped>\n    .dataframe tbody tr th:only-of-type {\n        vertical-align: middle;\n    }\n\n    .dataframe tbody tr th {\n        vertical-align: top;\n    }\n\n    .dataframe thead th {\n        text-align: right;\n    }\n</style>\n<table border=\"1\" class=\"dataframe\">\n  <thead>\n    <tr style=\"text-align: right;\">\n      <th></th>\n      <th>Claim</th>\n      <th>Food</th>\n      <th>Phenotype</th>\n      <th>Relationship-effect</th>\n    </tr>\n  </thead>\n  <tbody>\n    <tr>\n      <th>0</th>\n      <td>ALA contributes to the maintenance of normal b...</td>\n      <td>[Alpha-linolenic acid (ALA)]</td>\n      <td>Normal blood cholesterol</td>\n      <td>Maintenance of a function</td>\n    </tr>\n    <tr>\n      <th>1</th>\n      <td>Activated charcoal contributes to reducing exe...</td>\n      <td>[Activated charcoal]</td>\n      <td>Excessive flatulence</td>\n      <td>Enhancing a function</td>\n    </tr>\n    <tr>\n      <th>2</th>\n      <td>Barley grain fibre contributes to an increase ...</td>\n      <td>[Barley grain fibre]</td>\n      <td>Increase in faecal bulk</td>\n      <td>Enhancing a function</td>\n    </tr>\n    <tr>\n      <th>3</th>\n      <td>Beta-glucans contribute to the maintenance of ...</td>\n      <td>[Beta-glucans]</td>\n      <td>Normal blood cholesterol</td>\n      <td>Maintenance of a function</td>\n    </tr>\n    <tr>\n      <th>4</th>\n      <td>Betaine contributes to normal homocysteine met...</td>\n      <td>[Betaine]</td>\n      <td>Normal blood homocysteine</td>\n      <td>Maintenance of a function</td>\n    </tr>\n  </tbody>\n</table>\n</div>"
     },
     "execution_count": 3,
     "metadata": {},
     "output_type": "execute_result"
    }
   ],
   "source": [
    "import re\n",
    "for i in range(len(df)):\n",
    "    s = re.split(', |& |and|or',df['Food'][i])\n",
    "    s = [x for x in s if len(x) > 1]\n",
    "    df['Food'][i] = s\n",
    "df.head()"
   ],
   "metadata": {
    "collapsed": false
   }
  },
  {
   "cell_type": "code",
   "execution_count": 4,
   "outputs": [
    {
     "name": "stdout",
     "output_type": "stream",
     "text": [
      "[[237, 68], [61, 0]]\n",
      "Precision:  0.7953020134228188\n",
      "Recall:  0.7770491803278688\n",
      "F1:  0.7860696517412934\n"
     ]
    }
   ],
   "source": [
    "import ast\n",
    "annotations = pd.read_csv('data/annotated_claims.csv')\n",
    "\n",
    "def evaluateAnnotations():\n",
    "    confusion_matrix = [[0,0],[0,0]]\n",
    "\n",
    "    for i in range(len(df)):\n",
    "        true_labels = df['Food'][i]\n",
    "        predicted_labels = ast.literal_eval(annotations['Food'][i])\n",
    "        for tlabel in true_labels:\n",
    "            if not isinstance(tlabel,str):\n",
    "                tlabel = str(tlabel)\n",
    "            for plabel in predicted_labels:\n",
    "                if not isinstance(plabel,str):\n",
    "                    plabel = str(plabel)\n",
    "                if tlabel in plabel or plabel in tlabel: # if true label is in predicted label or vice versa\n",
    "                    confusion_matrix[0][0] += 1 # add to true positive\n",
    "                    true_labels.remove(tlabel)\n",
    "                    predicted_labels.remove(plabel)\n",
    "        confusion_matrix[0][1] += len(true_labels) # add to false negative (unmatched true labels)\n",
    "        confusion_matrix[1][0] += len(predicted_labels) # add to false positive (unmatched predicted labels)\n",
    "\n",
    "    precision = confusion_matrix[0][0]/(confusion_matrix[0][0]+confusion_matrix[1][0])\n",
    "    recall = confusion_matrix[0][0]/(confusion_matrix[0][0]+confusion_matrix[0][1])\n",
    "    f1 = 2*(precision*recall)/(precision+recall)\n",
    "    print(confusion_matrix)\n",
    "    print('Precision: ', precision)\n",
    "    print('Recall: ', recall)\n",
    "    print('F1: ',f1)\n",
    "evaluateAnnotations()"
   ],
   "metadata": {
    "collapsed": false
   }
  },
  {
   "cell_type": "markdown",
   "source": [
    "### EVALUATE ANNOTATIONS OF OPENAI GPT3.5-TURBO MODEL + WIKIFIER ON FOOD TERMS\n",
    "\n",
    "With this approach the entities extracted by the GPT model are then queried against Wikifier to get the Wikidata ID of the entity. Using the DBpedia IRI the entity is accepted if it is of type Food or ChemicalSubstance. The annotations are compared to the ground truth annotations present in the 'Food' column of the dataframe in the same way as before."
   ],
   "metadata": {
    "collapsed": false
   }
  },
  {
   "cell_type": "code",
   "execution_count": 5,
   "outputs": [],
   "source": [
    "from wikifier import CallWikifier\n",
    "\n",
    "# get the dbpedia iris of all the predicted food entities\n",
    "def queryWikifier():\n",
    "    data = []\n",
    "    for i in range(len(annotations)):\n",
    "        predicted_labels = ast.literal_eval(annotations['Food'][i])\n",
    "        for plabel in predicted_labels:\n",
    "            response = CallWikifier(plabel)\n",
    "            wiki_annotations = response[\"annotations\"]\n",
    "            dbpedia_iris = []\n",
    "            for wannotation in wiki_annotations:\n",
    "                dbpedia_iri = wannotation[\"dbPediaIri\"]\n",
    "                dbpedia_iris.append(dbpedia_iri)\n",
    "            row = [annotations['Claim'][i], plabel, dbpedia_iris]\n",
    "            print(row)\n",
    "            data.append(row)\n",
    "    wikifier_annotations = pd.DataFrame(data, columns=['Claim', 'predicted_label','dbepedia_iris'])\n",
    "    wikifier_annotations.to_csv('data/wiki_iris.csv', index=False)"
   ],
   "metadata": {
    "collapsed": false
   }
  },
  {
   "cell_type": "code",
   "execution_count": 6,
   "outputs": [],
   "source": [
    "# Filter the predicted labels based on the dbpedia iris\n",
    "\n",
    "from SPARQLWrapper import SPARQLWrapper, JSON\n",
    "\n",
    "def queryDBpedia():\n",
    "    wiki_iris = pd.read_csv('data/wiki_iris.csv')\n",
    "\n",
    "    sparql = SPARQLWrapper(\"http://dbpedia.org/sparql\")\n",
    "    sparql.setReturnFormat(JSON)\n",
    "\n",
    "    isfoodlist = []\n",
    "    for i in range(len(wiki_iris)):\n",
    "        entities = ast.literal_eval(wiki_iris[\"dbpedia_iris\"].iloc[i])\n",
    "        isfoodCount = 0\n",
    "        for entity in entities:\n",
    "            query = f'''\n",
    "                ASK {{\n",
    "                {{<{entity}> rdf:type ?a.\n",
    "                ?a rdfs:subClassOf* dbo:Food}}\n",
    "                union\n",
    "                {{<{entity}> rdf:type ?b.\n",
    "                ?b rdfs:subClassOf* dbo:Condiment}}\n",
    "                union\n",
    "                {{<{entity}> rdf:type ?c.\n",
    "                ?c rdfs:subClassOf* dbo:Beverage}}\n",
    "                union\n",
    "                {{<{entity}> rdf:type ?d.\n",
    "                ?d rdfs:subClassOf* dbo:Plant}}\n",
    "                union\n",
    "                {{<{entity}> rdf:type ?e.\n",
    "                ?e rdfs:subClassOf* dbo:Animal}}\n",
    "                union\n",
    "                {{<{entity}> rdf:type ?f.\n",
    "                ?f rdfs:subClassOf* dbo:Fungus}}\n",
    "                union\n",
    "                {{<{entity}> rdf:type ?g.\n",
    "                ?g rdfs:subClassOf* dbo:ChemicalSubstance}}\n",
    "                }}\n",
    "            '''\n",
    "            sparql.setQuery(query)\n",
    "            results = sparql.query().convert()\n",
    "            isfood = results[\"boolean\"]\n",
    "            if isfood:\n",
    "                isfoodCount += 1\n",
    "        if isfoodCount > 0:\n",
    "            isfoodlist.append(1)\n",
    "        else:\n",
    "            isfoodlist.append(0)\n",
    "    wiki_iris.insert(3, \"isFood\", isfoodlist, True)\n",
    "    wiki_iris.to_csv('data/wiki_iris.csv', index=False)"
   ],
   "metadata": {
    "collapsed": false
   }
  },
  {
   "cell_type": "code",
   "execution_count": 7,
   "outputs": [
    {
     "data": {
      "text/plain": "                                               Claim                    Food  \\\n0  ALA contributes to the maintenance of normal b...                      []   \n1  Activated charcoal contributes to reducing exe...  ['Activated charcoal']   \n2  Barley grain fibre contributes to an increase ...  ['Barley grain fibre']   \n3  Beta-glucans contribute to the maintenance of ...                      []   \n4  Betaine contributes to normal homocysteine met...                      []   \n\n                             Phenotype                    Health relationship  \n0  ['normal blood cholesterol levels']  ['contributes to the maintenance of']  \n1              ['exessive flatulence']             ['reducing a risk factor']  \n2                      ['faecal bulk']      ['contributes to an increase in']  \n3  ['normal blood cholesterol levels']                        ['maintenance']  \n4          ['homocysteine metabolism']                     ['contributes to']  ",
      "text/html": "<div>\n<style scoped>\n    .dataframe tbody tr th:only-of-type {\n        vertical-align: middle;\n    }\n\n    .dataframe tbody tr th {\n        vertical-align: top;\n    }\n\n    .dataframe thead th {\n        text-align: right;\n    }\n</style>\n<table border=\"1\" class=\"dataframe\">\n  <thead>\n    <tr style=\"text-align: right;\">\n      <th></th>\n      <th>Claim</th>\n      <th>Food</th>\n      <th>Phenotype</th>\n      <th>Health relationship</th>\n    </tr>\n  </thead>\n  <tbody>\n    <tr>\n      <th>0</th>\n      <td>ALA contributes to the maintenance of normal b...</td>\n      <td>[]</td>\n      <td>['normal blood cholesterol levels']</td>\n      <td>['contributes to the maintenance of']</td>\n    </tr>\n    <tr>\n      <th>1</th>\n      <td>Activated charcoal contributes to reducing exe...</td>\n      <td>['Activated charcoal']</td>\n      <td>['exessive flatulence']</td>\n      <td>['reducing a risk factor']</td>\n    </tr>\n    <tr>\n      <th>2</th>\n      <td>Barley grain fibre contributes to an increase ...</td>\n      <td>['Barley grain fibre']</td>\n      <td>['faecal bulk']</td>\n      <td>['contributes to an increase in']</td>\n    </tr>\n    <tr>\n      <th>3</th>\n      <td>Beta-glucans contribute to the maintenance of ...</td>\n      <td>[]</td>\n      <td>['normal blood cholesterol levels']</td>\n      <td>['maintenance']</td>\n    </tr>\n    <tr>\n      <th>4</th>\n      <td>Betaine contributes to normal homocysteine met...</td>\n      <td>[]</td>\n      <td>['homocysteine metabolism']</td>\n      <td>['contributes to']</td>\n    </tr>\n  </tbody>\n</table>\n</div>"
     },
     "execution_count": 7,
     "metadata": {},
     "output_type": "execute_result"
    }
   ],
   "source": [
    "wiki_iris = pd.read_csv('data/wiki_iris.csv')\n",
    "for i in range(len(annotations)):\n",
    "    predicted_labels = ast.literal_eval(annotations['Food'][i])\n",
    "    for plabel in predicted_labels:\n",
    "        for j in range(len(wiki_iris)):\n",
    "            if plabel == wiki_iris['predicted_label'][j]:\n",
    "                if wiki_iris['isFood'][j] == 0:\n",
    "                    predicted_labels.remove(plabel)\n",
    "                    annotations['Food'][i] = str(predicted_labels)\n",
    "                    break\n",
    "annotations.head()"
   ],
   "metadata": {
    "collapsed": false
   }
  },
  {
   "cell_type": "code",
   "execution_count": 8,
   "outputs": [
    {
     "name": "stdout",
     "output_type": "stream",
     "text": [
      "[[6, 62], [198, 0]]\n",
      "Precision:  0.029411764705882353\n",
      "Recall:  0.08823529411764706\n",
      "F1:  0.04411764705882353\n"
     ]
    }
   ],
   "source": [
    "confusion_matrix = [[0,0],[0,0]]\n",
    "for i in range(len(df)):\n",
    "    true_labels = df['Food'][i]\n",
    "    if len(annotations['Food'][i]) == 0:\n",
    "        predicted_labels = []\n",
    "        confusion_matrix[0][1] += len(true_labels) # add to false negative (unmatched true labels)\n",
    "        confusion_matrix[1][0] += len(predicted_labels) # add to false positive (unmatched predicted labels)\n",
    "    else:\n",
    "        predicted_labels = ast.literal_eval(annotations['Food'][i])\n",
    "        for tlabel in true_labels:\n",
    "            if not isinstance(tlabel,str):\n",
    "                tlabel = str(tlabel)\n",
    "            for plabel in predicted_labels:\n",
    "                if not isinstance(plabel,str):\n",
    "                    plabel = str(plabel)\n",
    "                if tlabel in plabel or plabel in tlabel: # if true label is in predicted label or vice versa\n",
    "                    confusion_matrix[0][0] += 1 # add to true positive\n",
    "                    true_labels.remove(tlabel)\n",
    "                    predicted_labels.remove(plabel)\n",
    "        confusion_matrix[0][1] += len(true_labels) # add to false negative (unmatched true labels)\n",
    "        confusion_matrix[1][0] += len(predicted_labels) # add to false positive (unmatched predicted labels)\n",
    "\n",
    "precision = confusion_matrix[0][0]/(confusion_matrix[0][0]+confusion_matrix[1][0])\n",
    "recall = confusion_matrix[0][0]/(confusion_matrix[0][0]+confusion_matrix[0][1])\n",
    "f1 = 2*(precision*recall)/(precision+recall)\n",
    "print(confusion_matrix)\n",
    "print('Precision: ', precision)\n",
    "print('Recall: ', recall)\n",
    "print('F1: ',f1)"
   ],
   "metadata": {
    "collapsed": false
   }
  },
  {
   "cell_type": "code",
   "execution_count": 8,
   "outputs": [],
   "source": [],
   "metadata": {
    "collapsed": false
   }
  }
 ],
 "metadata": {
  "kernelspec": {
   "display_name": "Python 3",
   "language": "python",
   "name": "python3"
  },
  "language_info": {
   "codemirror_mode": {
    "name": "ipython",
    "version": 2
   },
   "file_extension": ".py",
   "mimetype": "text/x-python",
   "name": "python",
   "nbconvert_exporter": "python",
   "pygments_lexer": "ipython2",
   "version": "2.7.6"
  }
 },
 "nbformat": 4,
 "nbformat_minor": 0
}
