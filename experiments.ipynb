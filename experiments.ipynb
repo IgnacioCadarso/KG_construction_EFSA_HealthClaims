{
 "cells": [
  {
   "cell_type": "code",
   "execution_count": 39,
   "metadata": {
    "collapsed": true
   },
   "outputs": [],
   "source": [
    "import json\n",
    "\n",
    "from wikifier import CallWikifier\n",
    "import pandas as pd\n",
    "import json\n",
    "df = pd.read_csv('data/FoodBaseCurated.csv')"
   ]
  },
  {
   "cell_type": "markdown",
   "source": [
    "First we get the annotated text from wikifier"
   ],
   "metadata": {
    "collapsed": false
   }
  },
  {
   "cell_type": "code",
   "execution_count": 89,
   "outputs": [
    {
     "data": {
      "text/plain": "   document_id annotation_text                                dbPediaIri  \\\n0  0recipe1006    Cream cheese  http://dbpedia.org/resource/Cream_cheese   \n1  0recipe1006          Cheese        http://dbpedia.org/resource/Cheese   \n2  0recipe1006            Beef          http://dbpedia.org/resource/Beef   \n3  0recipe1006           Olive         http://dbpedia.org/resource/Olive   \n4  0recipe1006           Onion         http://dbpedia.org/resource/Onion   \n\n                    locations  \n0                   [(3, 12)]  \n1  [(4, 6), (67, 6), (78, 6)]  \n2                    [(6, 4)]  \n3                    [(8, 5)]  \n4                   [(10, 5)]  ",
      "text/html": "<div>\n<style scoped>\n    .dataframe tbody tr th:only-of-type {\n        vertical-align: middle;\n    }\n\n    .dataframe tbody tr th {\n        vertical-align: top;\n    }\n\n    .dataframe thead th {\n        text-align: right;\n    }\n</style>\n<table border=\"1\" class=\"dataframe\">\n  <thead>\n    <tr style=\"text-align: right;\">\n      <th></th>\n      <th>document_id</th>\n      <th>annotation_text</th>\n      <th>dbPediaIri</th>\n      <th>locations</th>\n    </tr>\n  </thead>\n  <tbody>\n    <tr>\n      <th>0</th>\n      <td>0recipe1006</td>\n      <td>Cream cheese</td>\n      <td>http://dbpedia.org/resource/Cream_cheese</td>\n      <td>[(3, 12)]</td>\n    </tr>\n    <tr>\n      <th>1</th>\n      <td>0recipe1006</td>\n      <td>Cheese</td>\n      <td>http://dbpedia.org/resource/Cheese</td>\n      <td>[(4, 6), (67, 6), (78, 6)]</td>\n    </tr>\n    <tr>\n      <th>2</th>\n      <td>0recipe1006</td>\n      <td>Beef</td>\n      <td>http://dbpedia.org/resource/Beef</td>\n      <td>[(6, 4)]</td>\n    </tr>\n    <tr>\n      <th>3</th>\n      <td>0recipe1006</td>\n      <td>Olive</td>\n      <td>http://dbpedia.org/resource/Olive</td>\n      <td>[(8, 5)]</td>\n    </tr>\n    <tr>\n      <th>4</th>\n      <td>0recipe1006</td>\n      <td>Onion</td>\n      <td>http://dbpedia.org/resource/Onion</td>\n      <td>[(10, 5)]</td>\n    </tr>\n  </tbody>\n</table>\n</div>"
     },
     "execution_count": 89,
     "metadata": {},
     "output_type": "execute_result"
    }
   ],
   "source": [
    "data = []\n",
    "for i in range(5):\n",
    "     response = CallWikifier(df[\"Full_text\"].unique()[i])\n",
    "     annotations = response[\"annotations\"]\n",
    "     for annotation in annotations:\n",
    "        support = annotation[\"support\"]\n",
    "        indices = []\n",
    "        for item in support:\n",
    "            wFrom = item[\"wFrom\"] + 1 #add 1 because the annotations in the foodbase corpus start at different index\n",
    "            length = len(annotation['title'])\n",
    "            indices.append((wFrom,length))\n",
    "        row = [df[\"DocumentID\"].unique()[i],annotation['title'],annotation[\"dbPediaIri\"],indices]\n",
    "        data.append(row)\n",
    "\n",
    "wiki_df = pd.DataFrame(data, columns=['document_id','annotation_text','dbPediaIri','locations'])\n",
    "wiki_df.to_csv(\"data/WikifierResponses.csv\")\n",
    "wiki_df.head()"
   ],
   "metadata": {
    "collapsed": false
   }
  },
  {
   "cell_type": "markdown",
   "source": [
    "Now we count the number of TPs, FNs and FPs:"
   ],
   "metadata": {
    "collapsed": false
   }
  },
  {
   "cell_type": "code",
   "execution_count": 90,
   "outputs": [
    {
     "name": "stdout",
     "output_type": "stream",
     "text": [
      "True Positives: 26 False Negatives: 40, False Positives: 82\n"
     ]
    }
   ],
   "source": [
    "TP = 0\n",
    "FN = 0\n",
    "FP = 0\n",
    "total_annotations = 0\n",
    "for recipeid in wiki_df[\"document_id\"].unique():\n",
    "    recp_wiki_df = wiki_df[wiki_df['document_id'] == recipeid]\n",
    "    recp_df = df[df['DocumentID']== recipeid]\n",
    "    total_annotations += len(recp_df)\n",
    "    for i in range(len(recp_wiki_df)):\n",
    "        locations = recp_wiki_df[\"locations\"].iloc[i]\n",
    "        for location in locations:\n",
    "            for i in range(len(recp_df)):\n",
    "                if location[0] == recp_df['offset'].iloc[i] and location[1] == recp_df['length'].iloc[i]:\n",
    "                    TP += 1\n",
    "            FP += 1\n",
    "FP = FP - TP\n",
    "FN = total_annotations - TP\n",
    "print(f'True Positives: {TP} False Negatives: {FN}, False Positives: {FP}')"
   ],
   "metadata": {
    "collapsed": false
   }
  },
  {
   "cell_type": "code",
   "execution_count": 71,
   "outputs": [],
   "source": [],
   "metadata": {
    "collapsed": false
   }
  }
 ],
 "metadata": {
  "kernelspec": {
   "display_name": "Python 3",
   "language": "python",
   "name": "python3"
  },
  "language_info": {
   "codemirror_mode": {
    "name": "ipython",
    "version": 2
   },
   "file_extension": ".py",
   "mimetype": "text/x-python",
   "name": "python",
   "nbconvert_exporter": "python",
   "pygments_lexer": "ipython2",
   "version": "2.7.6"
  }
 },
 "nbformat": 4,
 "nbformat_minor": 0
}
