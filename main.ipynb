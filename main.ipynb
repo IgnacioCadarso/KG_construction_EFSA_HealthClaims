{
 "cells": [
  {
   "cell_type": "code",
   "execution_count": 1,
   "outputs": [
    {
     "data": {
      "text/plain": "                                               Claim  \\\n0  ALA contributes to the maintenance of normal b...   \n1  Activated charcoal contributes to reducing exe...   \n2  Barley grain fibre contributes to an increase ...   \n3  Beta-glucans contribute to the maintenance of ...   \n4  Betaine contributes to normal homocysteine met...   \n\n                         Food                  Phenotype  \\\n0  Alpha-linolenic acid (ALA)   Normal blood cholesterol   \n1          Activated charcoal       Excessive flatulence   \n2          Barley grain fibre    Increase in faecal bulk   \n3                Beta-glucans   Normal blood cholesterol   \n4                     Betaine  Normal blood homocysteine   \n\n         Relationship-effect                    Food Ontology Term  \\\n0  Maintenance of a function  https://foodb.ca/compounds/FDB012462   \n1       Enhancing a function  https://foodb.ca/compounds/FDB008898   \n2       Enhancing a function      https://foodb.ca/foods/FOOD00088   \n3  Maintenance of a function  https://foodb.ca/compounds/FDB005762   \n4  Maintenance of a function  https://foodb.ca/compounds/FDB009020   \n\n                                         foodDB_wiki  \n0  ['http://en.wikipedia.org/wiki/Alpha-Linolenic...  \n1  ['http://en.wikipedia.org/wiki/Activated_carbon']  \n2            ['http://en.wikipedia.org/wiki/Barley']  \n3            ['http://en.wikipedia.org/wiki/Glucan']  \n4           ['http://en.wikipedia.org/wiki/Betaine']  ",
      "text/html": "<div>\n<style scoped>\n    .dataframe tbody tr th:only-of-type {\n        vertical-align: middle;\n    }\n\n    .dataframe tbody tr th {\n        vertical-align: top;\n    }\n\n    .dataframe thead th {\n        text-align: right;\n    }\n</style>\n<table border=\"1\" class=\"dataframe\">\n  <thead>\n    <tr style=\"text-align: right;\">\n      <th></th>\n      <th>Claim</th>\n      <th>Food</th>\n      <th>Phenotype</th>\n      <th>Relationship-effect</th>\n      <th>Food Ontology Term</th>\n      <th>foodDB_wiki</th>\n    </tr>\n  </thead>\n  <tbody>\n    <tr>\n      <th>0</th>\n      <td>ALA contributes to the maintenance of normal b...</td>\n      <td>Alpha-linolenic acid (ALA)</td>\n      <td>Normal blood cholesterol</td>\n      <td>Maintenance of a function</td>\n      <td>https://foodb.ca/compounds/FDB012462</td>\n      <td>['http://en.wikipedia.org/wiki/Alpha-Linolenic...</td>\n    </tr>\n    <tr>\n      <th>1</th>\n      <td>Activated charcoal contributes to reducing exe...</td>\n      <td>Activated charcoal</td>\n      <td>Excessive flatulence</td>\n      <td>Enhancing a function</td>\n      <td>https://foodb.ca/compounds/FDB008898</td>\n      <td>['http://en.wikipedia.org/wiki/Activated_carbon']</td>\n    </tr>\n    <tr>\n      <th>2</th>\n      <td>Barley grain fibre contributes to an increase ...</td>\n      <td>Barley grain fibre</td>\n      <td>Increase in faecal bulk</td>\n      <td>Enhancing a function</td>\n      <td>https://foodb.ca/foods/FOOD00088</td>\n      <td>['http://en.wikipedia.org/wiki/Barley']</td>\n    </tr>\n    <tr>\n      <th>3</th>\n      <td>Beta-glucans contribute to the maintenance of ...</td>\n      <td>Beta-glucans</td>\n      <td>Normal blood cholesterol</td>\n      <td>Maintenance of a function</td>\n      <td>https://foodb.ca/compounds/FDB005762</td>\n      <td>['http://en.wikipedia.org/wiki/Glucan']</td>\n    </tr>\n    <tr>\n      <th>4</th>\n      <td>Betaine contributes to normal homocysteine met...</td>\n      <td>Betaine</td>\n      <td>Normal blood homocysteine</td>\n      <td>Maintenance of a function</td>\n      <td>https://foodb.ca/compounds/FDB009020</td>\n      <td>['http://en.wikipedia.org/wiki/Betaine']</td>\n    </tr>\n  </tbody>\n</table>\n</div>"
     },
     "execution_count": 1,
     "metadata": {},
     "output_type": "execute_result"
    }
   ],
   "source": [
    "import pandas as pd\n",
    "from collections import Counter\n",
    "df = pd.read_csv('data/processed_claims.csv')\n",
    "df.head()"
   ],
   "metadata": {
    "collapsed": false,
    "ExecuteTime": {
     "end_time": "2023-06-07T12:11:50.111353700Z",
     "start_time": "2023-06-07T12:11:49.436113Z"
    }
   }
  },
  {
   "cell_type": "markdown",
   "source": [
    "# NER TASK"
   ],
   "metadata": {
    "collapsed": false
   }
  },
  {
   "cell_type": "markdown",
   "source": [
    "### ANOTATE CLAIMS USING OPENAI GPT-3.5 TURBO MODEL\n",
    "\n",
    "The text present in the 'Claim' column is sent to the OpenAI GPT-3.5 Turbo model for annotation. The function extracts the entities, classifies them, and extracts an association between those entities. The entities to extract are of the types: \"Food Entity\", \"Phenotype\". The function returns the results as a YAML object with the following fields:\n",
    "\n",
    "entities: the list of entities in the text, each entity is an object with the fields: label, type\n",
    "association: a list with the most important association between entities in the text, an association is an object with the fields: \"subject\" for the subject entity, \"predicate\" for the relation (maintenance of function, enhancing a function, reducing a risk factor), \"object\" for the object entity\n",
    "The function saves the annotated results in 'data/annotated_claims.csv' file."
   ],
   "metadata": {
    "collapsed": false
   }
  },
  {
   "cell_type": "code",
   "execution_count": 2,
   "outputs": [
    {
     "data": {
      "text/plain": "                                               Claim  \\\n0  ALA contributes to the maintenance of normal b...   \n1  Activated charcoal contributes to reducing exe...   \n2  Barley grain fibre contributes to an increase ...   \n3  Beta-glucans contribute to the maintenance of ...   \n4  Betaine contributes to normal homocysteine met...   \n\n                               Food                            Phenotype  \\\n0                           ['ALA']  ['normal blood cholesterol levels']   \n1  ['Activated charcoal', 'eating']              ['exessive flatulence']   \n2            ['Barley grain fibre']                      ['faecal bulk']   \n3                  ['Beta-glucans']  ['normal blood cholesterol levels']   \n4                       ['Betaine']          ['homocysteine metabolism']   \n\n                     Health relationship  \n0  ['contributes to the maintenance of']  \n1             ['reducing a risk factor']  \n2      ['contributes to an increase in']  \n3                        ['maintenance']  \n4                     ['contributes to']  ",
      "text/html": "<div>\n<style scoped>\n    .dataframe tbody tr th:only-of-type {\n        vertical-align: middle;\n    }\n\n    .dataframe tbody tr th {\n        vertical-align: top;\n    }\n\n    .dataframe thead th {\n        text-align: right;\n    }\n</style>\n<table border=\"1\" class=\"dataframe\">\n  <thead>\n    <tr style=\"text-align: right;\">\n      <th></th>\n      <th>Claim</th>\n      <th>Food</th>\n      <th>Phenotype</th>\n      <th>Health relationship</th>\n    </tr>\n  </thead>\n  <tbody>\n    <tr>\n      <th>0</th>\n      <td>ALA contributes to the maintenance of normal b...</td>\n      <td>['ALA']</td>\n      <td>['normal blood cholesterol levels']</td>\n      <td>['contributes to the maintenance of']</td>\n    </tr>\n    <tr>\n      <th>1</th>\n      <td>Activated charcoal contributes to reducing exe...</td>\n      <td>['Activated charcoal', 'eating']</td>\n      <td>['exessive flatulence']</td>\n      <td>['reducing a risk factor']</td>\n    </tr>\n    <tr>\n      <th>2</th>\n      <td>Barley grain fibre contributes to an increase ...</td>\n      <td>['Barley grain fibre']</td>\n      <td>['faecal bulk']</td>\n      <td>['contributes to an increase in']</td>\n    </tr>\n    <tr>\n      <th>3</th>\n      <td>Beta-glucans contribute to the maintenance of ...</td>\n      <td>['Beta-glucans']</td>\n      <td>['normal blood cholesterol levels']</td>\n      <td>['maintenance']</td>\n    </tr>\n    <tr>\n      <th>4</th>\n      <td>Betaine contributes to normal homocysteine met...</td>\n      <td>['Betaine']</td>\n      <td>['homocysteine metabolism']</td>\n      <td>['contributes to']</td>\n    </tr>\n  </tbody>\n</table>\n</div>"
     },
     "execution_count": 2,
     "metadata": {},
     "output_type": "execute_result"
    }
   ],
   "source": [
    "import requests\n",
    "import json\n",
    "\n",
    "def annotateClaimsKG():\n",
    "    url = 'https://api.collaboratory.semanticscience.org/openai-extract'\n",
    "    headers = {'content-type': 'application/json'}\n",
    "    params = {'prompt':'From the text below, extract the entities, classify them and extract an association between those entities, Entities to extract should be of one of those types: \"Food Entity\", \"Phenotype\". Return the results as a YAML object with the following fields: - entities: <the list of entities in the text, each entity is an object with the fields: label, type> - association: <a list with the most important association between entities in the text, an association is an object with the fields: \"subject\" for the subject entity, \"predicate\" for the relation (maintenance of function, enhancing a function, reducing a risk factor), \"object\" for the object entity>'}\n",
    "\n",
    "    annot = []\n",
    "    for i in range(0,len(df)):\n",
    "        while True:\n",
    "            data = {\n",
    "                'text': df['Claim'][i]\n",
    "            }\n",
    "            response = requests.post(url, params=params, data=json.dumps(data), headers=headers)\n",
    "            print(response)\n",
    "            try:\n",
    "                response = response.json()\n",
    "                print(response)\n",
    "                food_entities = [entity['label'] for entity in response['entities'] if entity['type'] == 'Food Entity']\n",
    "                phenotype_entities = [entity['label'] for entity in response['entities'] if entity['type'] == 'Phenotype']\n",
    "                health_relationships = [association['predicate'] for association in response['association']]\n",
    "                row = [df['Claim'][i], food_entities, phenotype_entities, health_relationships]\n",
    "                annot.append(row)\n",
    "                break\n",
    "            except:\n",
    "                pass\n",
    "    annotations = pd.DataFrame(annot, columns=['Claim', 'Food','Phenotype','Health relationship'])\n",
    "    annotations.to_csv('data/annotated_claims.csv', index=False)\n",
    "annotations = pd.read_csv('data/annotated_claims.csv')\n",
    "annotations.head()"
   ],
   "metadata": {
    "collapsed": false,
    "ExecuteTime": {
     "end_time": "2023-06-07T12:11:50.371657900Z",
     "start_time": "2023-06-07T12:11:50.117310300Z"
    }
   }
  },
  {
   "cell_type": "markdown",
   "source": [
    "### EVALUATE ANNOTATIONS OF OPENAI GPT3.5-TURBO MODEL ON FOOD AND PHENOTYPES\n",
    "Now we evaluate the annotations of the OpenAI GPT3.5-Turbo model on food terms using nervaluate. Full named-entity (i.e., not tag/token) evaluation metrics based on SemEval’13"
   ],
   "metadata": {
    "collapsed": false
   }
  },
  {
   "cell_type": "code",
   "execution_count": 3,
   "outputs": [
    {
     "data": {
      "text/plain": "                                               Claim  \\\n0  ALA contributes to the maintenance of normal b...   \n1  Activated charcoal contributes to reducing exe...   \n2  Barley grain fibre contributes to an increase ...   \n3  Beta-glucans contribute to the maintenance of ...   \n4  Betaine contributes to normal homocysteine met...   \n\n                           Food                    Phenotype  \\\n0  [Alpha-linolenic acid (ALA)]   [Normal blood cholesterol]   \n1          [Activated charcoal]       [Excessive flatulence]   \n2          [Barley grain fibre]    [Increase in faecal bulk]   \n3                [Beta-glucans]   [Normal blood cholesterol]   \n4                     [Betaine]  [Normal blood homocysteine]   \n\n         Relationship-effect                    Food Ontology Term  \\\n0  Maintenance of a function  https://foodb.ca/compounds/FDB012462   \n1       Enhancing a function  https://foodb.ca/compounds/FDB008898   \n2       Enhancing a function      https://foodb.ca/foods/FOOD00088   \n3  Maintenance of a function  https://foodb.ca/compounds/FDB005762   \n4  Maintenance of a function  https://foodb.ca/compounds/FDB009020   \n\n                                         foodDB_wiki  \n0  ['http://en.wikipedia.org/wiki/Alpha-Linolenic...  \n1  ['http://en.wikipedia.org/wiki/Activated_carbon']  \n2            ['http://en.wikipedia.org/wiki/Barley']  \n3            ['http://en.wikipedia.org/wiki/Glucan']  \n4           ['http://en.wikipedia.org/wiki/Betaine']  ",
      "text/html": "<div>\n<style scoped>\n    .dataframe tbody tr th:only-of-type {\n        vertical-align: middle;\n    }\n\n    .dataframe tbody tr th {\n        vertical-align: top;\n    }\n\n    .dataframe thead th {\n        text-align: right;\n    }\n</style>\n<table border=\"1\" class=\"dataframe\">\n  <thead>\n    <tr style=\"text-align: right;\">\n      <th></th>\n      <th>Claim</th>\n      <th>Food</th>\n      <th>Phenotype</th>\n      <th>Relationship-effect</th>\n      <th>Food Ontology Term</th>\n      <th>foodDB_wiki</th>\n    </tr>\n  </thead>\n  <tbody>\n    <tr>\n      <th>0</th>\n      <td>ALA contributes to the maintenance of normal b...</td>\n      <td>[Alpha-linolenic acid (ALA)]</td>\n      <td>[Normal blood cholesterol]</td>\n      <td>Maintenance of a function</td>\n      <td>https://foodb.ca/compounds/FDB012462</td>\n      <td>['http://en.wikipedia.org/wiki/Alpha-Linolenic...</td>\n    </tr>\n    <tr>\n      <th>1</th>\n      <td>Activated charcoal contributes to reducing exe...</td>\n      <td>[Activated charcoal]</td>\n      <td>[Excessive flatulence]</td>\n      <td>Enhancing a function</td>\n      <td>https://foodb.ca/compounds/FDB008898</td>\n      <td>['http://en.wikipedia.org/wiki/Activated_carbon']</td>\n    </tr>\n    <tr>\n      <th>2</th>\n      <td>Barley grain fibre contributes to an increase ...</td>\n      <td>[Barley grain fibre]</td>\n      <td>[Increase in faecal bulk]</td>\n      <td>Enhancing a function</td>\n      <td>https://foodb.ca/foods/FOOD00088</td>\n      <td>['http://en.wikipedia.org/wiki/Barley']</td>\n    </tr>\n    <tr>\n      <th>3</th>\n      <td>Beta-glucans contribute to the maintenance of ...</td>\n      <td>[Beta-glucans]</td>\n      <td>[Normal blood cholesterol]</td>\n      <td>Maintenance of a function</td>\n      <td>https://foodb.ca/compounds/FDB005762</td>\n      <td>['http://en.wikipedia.org/wiki/Glucan']</td>\n    </tr>\n    <tr>\n      <th>4</th>\n      <td>Betaine contributes to normal homocysteine met...</td>\n      <td>[Betaine]</td>\n      <td>[Normal blood homocysteine]</td>\n      <td>Maintenance of a function</td>\n      <td>https://foodb.ca/compounds/FDB009020</td>\n      <td>['http://en.wikipedia.org/wiki/Betaine']</td>\n    </tr>\n  </tbody>\n</table>\n</div>"
     },
     "execution_count": 3,
     "metadata": {},
     "output_type": "execute_result"
    }
   ],
   "source": [
    "import re\n",
    "import ast\n",
    "for i in range(len(df)):\n",
    "    s = re.split(', | & | and | or ',df['Food'][i])\n",
    "    s = [x for x in s if len(x) > 1]\n",
    "    df['Food'][i] = s\n",
    "    df['Phenotype'][i] = [df['Phenotype'][i]]\n",
    "df.head()"
   ],
   "metadata": {
    "collapsed": false,
    "ExecuteTime": {
     "end_time": "2023-06-07T12:11:50.385590800Z",
     "start_time": "2023-06-07T12:11:50.302812900Z"
    }
   }
  },
  {
   "cell_type": "markdown",
   "source": [
    "Convert the true and predicted labels to the indices that they match in the Claim text"
   ],
   "metadata": {
    "collapsed": false
   }
  },
  {
   "cell_type": "code",
   "execution_count": 4,
   "outputs": [
    {
     "data": {
      "text/plain": "                                               Claim       Food   Phenotype  \\\n0  ALA contributes to the maintenance of normal b...   [(0, 2)]  [(39, 61)]   \n1  Activated charcoal contributes to reducing exe...  [(0, 17)]  [(45, 61)]   \n2  Barley grain fibre contributes to an increase ...  [(0, 17)]  [(38, 59)]   \n3  Beta-glucans contribute to the maintenance of ...  [(0, 11)]  [(47, 69)]   \n4  Betaine contributes to normal homocysteine met...   [(0, 6)]  [(29, 41)]   \n\n        predicted_food predicted_phenotype  \n0             [(0, 2)]          [(38, 68)]  \n1  [(0, 17), (69, 74)]          [(43, 61)]  \n2            [(0, 17)]          [(49, 59)]  \n3            [(0, 11)]          [(46, 76)]  \n4             [(0, 6)]          [(30, 52)]  ",
      "text/html": "<div>\n<style scoped>\n    .dataframe tbody tr th:only-of-type {\n        vertical-align: middle;\n    }\n\n    .dataframe tbody tr th {\n        vertical-align: top;\n    }\n\n    .dataframe thead th {\n        text-align: right;\n    }\n</style>\n<table border=\"1\" class=\"dataframe\">\n  <thead>\n    <tr style=\"text-align: right;\">\n      <th></th>\n      <th>Claim</th>\n      <th>Food</th>\n      <th>Phenotype</th>\n      <th>predicted_food</th>\n      <th>predicted_phenotype</th>\n    </tr>\n  </thead>\n  <tbody>\n    <tr>\n      <th>0</th>\n      <td>ALA contributes to the maintenance of normal b...</td>\n      <td>[(0, 2)]</td>\n      <td>[(39, 61)]</td>\n      <td>[(0, 2)]</td>\n      <td>[(38, 68)]</td>\n    </tr>\n    <tr>\n      <th>1</th>\n      <td>Activated charcoal contributes to reducing exe...</td>\n      <td>[(0, 17)]</td>\n      <td>[(45, 61)]</td>\n      <td>[(0, 17), (69, 74)]</td>\n      <td>[(43, 61)]</td>\n    </tr>\n    <tr>\n      <th>2</th>\n      <td>Barley grain fibre contributes to an increase ...</td>\n      <td>[(0, 17)]</td>\n      <td>[(38, 59)]</td>\n      <td>[(0, 17)]</td>\n      <td>[(49, 59)]</td>\n    </tr>\n    <tr>\n      <th>3</th>\n      <td>Beta-glucans contribute to the maintenance of ...</td>\n      <td>[(0, 11)]</td>\n      <td>[(47, 69)]</td>\n      <td>[(0, 11)]</td>\n      <td>[(46, 76)]</td>\n    </tr>\n    <tr>\n      <th>4</th>\n      <td>Betaine contributes to normal homocysteine met...</td>\n      <td>[(0, 6)]</td>\n      <td>[(29, 41)]</td>\n      <td>[(0, 6)]</td>\n      <td>[(30, 52)]</td>\n    </tr>\n  </tbody>\n</table>\n</div>"
     },
     "execution_count": 4,
     "metadata": {},
     "output_type": "execute_result"
    }
   ],
   "source": [
    "from stringMatcher import longest_common_substring\n",
    "# Convert \"Food\" column to indices\n",
    "annotations_copy = annotations.copy()\n",
    "df_copy = df[['Claim','Food','Phenotype']].copy()\n",
    "annotations_copy['Food'] = annotations_copy.apply(lambda row: [longest_common_substring(row['Claim'],food) for food in ast.literal_eval(row['Food'])], axis=1)\n",
    "df_copy['Food'] = df_copy.apply(lambda row: [longest_common_substring(row['Claim'],food) for food in row['Food']], axis=1)\n",
    "# Convert \"Phenotype\" column to indices\n",
    "annotations_copy['Phenotype'] = annotations_copy.apply(lambda row: [longest_common_substring(row['Claim'],phenotype) for phenotype in ast.literal_eval(row['Phenotype'])], axis=1)\n",
    "df_copy['Phenotype'] = df_copy.apply(lambda row: [longest_common_substring(row['Claim'],phenotype) for phenotype in row['Phenotype']], axis=1)\n",
    "# Display the updated DataFrame\n",
    "indices_df = df_copy\n",
    "indices_df['predicted_food'] = annotations_copy['Food']\n",
    "indices_df['predicted_phenotype'] = annotations_copy['Phenotype']\n",
    "indices_df.head()"
   ],
   "metadata": {
    "collapsed": false,
    "ExecuteTime": {
     "end_time": "2023-06-07T12:11:50.868402600Z",
     "start_time": "2023-06-07T12:11:50.384600Z"
    }
   }
  },
  {
   "cell_type": "markdown",
   "source": [
    "Add text length to the indices so the indices are not repeated for each row."
   ],
   "metadata": {
    "collapsed": false
   }
  },
  {
   "cell_type": "code",
   "execution_count": 5,
   "outputs": [
    {
     "data": {
      "text/plain": "                                               Claim          Food  \\\n0  ALA contributes to the maintenance of normal b...      [(0, 2)]   \n1  Activated charcoal contributes to reducing exe...    [(69, 86)]   \n2  Barley grain fibre contributes to an increase ...  [(144, 161)]   \n3  Beta-glucans contribute to the maintenance of ...  [(204, 215)]   \n4  Betaine contributes to normal homocysteine met...  [(281, 287)]   \n\n      Phenotype          predicted_food predicted_phenotype  \n0    [(39, 61)]                [(0, 2)]          [(38, 68)]  \n1  [(114, 130)]  [(69, 86), (138, 143)]        [(112, 130)]  \n2  [(182, 203)]            [(144, 161)]        [(193, 203)]  \n3  [(251, 273)]            [(204, 215)]        [(250, 280)]  \n4  [(310, 322)]            [(281, 287)]        [(311, 333)]  ",
      "text/html": "<div>\n<style scoped>\n    .dataframe tbody tr th:only-of-type {\n        vertical-align: middle;\n    }\n\n    .dataframe tbody tr th {\n        vertical-align: top;\n    }\n\n    .dataframe thead th {\n        text-align: right;\n    }\n</style>\n<table border=\"1\" class=\"dataframe\">\n  <thead>\n    <tr style=\"text-align: right;\">\n      <th></th>\n      <th>Claim</th>\n      <th>Food</th>\n      <th>Phenotype</th>\n      <th>predicted_food</th>\n      <th>predicted_phenotype</th>\n    </tr>\n  </thead>\n  <tbody>\n    <tr>\n      <th>0</th>\n      <td>ALA contributes to the maintenance of normal b...</td>\n      <td>[(0, 2)]</td>\n      <td>[(39, 61)]</td>\n      <td>[(0, 2)]</td>\n      <td>[(38, 68)]</td>\n    </tr>\n    <tr>\n      <th>1</th>\n      <td>Activated charcoal contributes to reducing exe...</td>\n      <td>[(69, 86)]</td>\n      <td>[(114, 130)]</td>\n      <td>[(69, 86), (138, 143)]</td>\n      <td>[(112, 130)]</td>\n    </tr>\n    <tr>\n      <th>2</th>\n      <td>Barley grain fibre contributes to an increase ...</td>\n      <td>[(144, 161)]</td>\n      <td>[(182, 203)]</td>\n      <td>[(144, 161)]</td>\n      <td>[(193, 203)]</td>\n    </tr>\n    <tr>\n      <th>3</th>\n      <td>Beta-glucans contribute to the maintenance of ...</td>\n      <td>[(204, 215)]</td>\n      <td>[(251, 273)]</td>\n      <td>[(204, 215)]</td>\n      <td>[(250, 280)]</td>\n    </tr>\n    <tr>\n      <th>4</th>\n      <td>Betaine contributes to normal homocysteine met...</td>\n      <td>[(281, 287)]</td>\n      <td>[(310, 322)]</td>\n      <td>[(281, 287)]</td>\n      <td>[(311, 333)]</td>\n    </tr>\n  </tbody>\n</table>\n</div>"
     },
     "execution_count": 5,
     "metadata": {},
     "output_type": "execute_result"
    }
   ],
   "source": [
    "# Calculate the cumulative lengths of the Claim text\n",
    "cumulative_lengths = indices_df['Claim'].apply(len).cumsum().shift(fill_value=0)\n",
    "# Modify the spans in the columns based on the cumulative lengths\n",
    "indices_df['Food'] = indices_df.apply(lambda row: [(start + cumulative_lengths[row.name], end + cumulative_lengths[row.name]) for (start, end) in row['Food']], axis=1)\n",
    "indices_df['Phenotype'] = indices_df.apply(lambda row: [(start + cumulative_lengths[row.name], end + cumulative_lengths[row.name]) for (start, end) in row['Phenotype']], axis=1)\n",
    "indices_df['predicted_food'] = indices_df.apply(lambda row: [(start + cumulative_lengths[row.name], end + cumulative_lengths[row.name]) for (start, end) in row['predicted_food']], axis=1)\n",
    "indices_df['predicted_phenotype'] = indices_df.apply(lambda row: [(start + cumulative_lengths[row.name], end + cumulative_lengths[row.name]) for (start, end) in row['predicted_phenotype']], axis=1)\n",
    "indices_df.head()"
   ],
   "metadata": {
    "collapsed": false,
    "ExecuteTime": {
     "end_time": "2023-06-07T12:11:51.064876300Z",
     "start_time": "2023-06-07T12:11:50.882365500Z"
    }
   }
  },
  {
   "cell_type": "markdown",
   "source": [
    "Evaluate the annotations using nervaluate. Full named-entity (i.e., not tag/token) evaluation metrics based on SemEval’13. The strict metric is the strictest metric, which requires the predicted entity to match the true entity exactly. The type metric is the least strict metric, which requires the predicted entity to match the true entity partially.\n",
    "\n",
    "True Positives (TP) ---> Correct\n",
    "False Positives (FP) ---> Incorrect + Spurious\n",
    "False Negatives (FN) ---> Incorrect + Missed\n",
    "Nº of entities in the gold standard (manually annotated dataset) ---> Possible\n",
    "Nº of entities predicted ---> Actual"
   ],
   "metadata": {
    "collapsed": false
   }
  },
  {
   "cell_type": "code",
   "execution_count": 6,
   "outputs": [
    {
     "name": "stdout",
     "output_type": "stream",
     "text": [
      "FOOD type {'correct': 263, 'incorrect': 0, 'partial': 0, 'missed': 30, 'spurious': 35, 'possible': 293, 'actual': 298, 'precision': 0.8825503355704698, 'recall': 0.8976109215017065, 'f1': 0.8900169204737733} strict {'correct': 188, 'incorrect': 75, 'partial': 0, 'missed': 30, 'spurious': 35, 'possible': 293, 'actual': 298, 'precision': 0.6308724832214765, 'recall': 0.6416382252559727, 'f1': 0.6362098138747885}\n",
      "PHENOTYPE type {'correct': 250, 'incorrect': 0, 'partial': 0, 'missed': 10, 'spurious': 135, 'possible': 260, 'actual': 385, 'precision': 0.6493506493506493, 'recall': 0.9615384615384616, 'f1': 0.7751937984496124} strict {'correct': 3, 'incorrect': 247, 'partial': 0, 'missed': 10, 'spurious': 135, 'possible': 260, 'actual': 385, 'precision': 0.007792207792207792, 'recall': 0.011538461538461539, 'f1': 0.009302325581395349}\n"
     ]
    }
   ],
   "source": [
    "food_true = [{'label': 'FOOD', 'start': span[0], 'end': span[1]} for spans in indices_df['Food'] for span in spans]\n",
    "phenotype_true = [{'label': 'PHENOTYPE', 'start': span[0], 'end': span[1]} for spans in indices_df['Phenotype'] for span in spans]\n",
    "food_predicted = [{'label': 'FOOD', 'start': span[0], 'end': span[1]} for spans in indices_df['predicted_food'] for span in spans]\n",
    "phenotype_predicted = [{'label': 'PHENOTYPE', 'start': span[0], 'end': span[1]} for spans in indices_df['predicted_phenotype'] for span in spans]\n",
    "\n",
    "true = [food_true, phenotype_true]\n",
    "predicted = [food_predicted, phenotype_predicted]\n",
    "\n",
    "from nervaluate import Evaluator\n",
    "evaluator = Evaluator(true, predicted, tags=['FOOD', 'PHENOTYPE'])\n",
    "# Returns overall metrics and metrics for each tag\n",
    "results, results_per_tag = evaluator.evaluate()\n",
    "food_ent_type_metrics = results_per_tag['FOOD']['ent_type']\n",
    "food_strict_metrics = results_per_tag['FOOD']['strict']\n",
    "phen_ent_type_metrics = results_per_tag['PHENOTYPE']['ent_type']\n",
    "phen_strict_metrics = results_per_tag['PHENOTYPE']['strict']\n",
    "print('FOOD','type',food_ent_type_metrics,'strict',food_strict_metrics)\n",
    "print('PHENOTYPE','type',phen_ent_type_metrics,'strict',phen_strict_metrics)"
   ],
   "metadata": {
    "collapsed": false,
    "ExecuteTime": {
     "end_time": "2023-06-07T12:11:51.388011800Z",
     "start_time": "2023-06-07T12:11:50.992075500Z"
    }
   }
  },
  {
   "cell_type": "markdown",
   "source": [
    "# EL TASK"
   ],
   "metadata": {
    "collapsed": false
   }
  },
  {
   "cell_type": "markdown",
   "source": [
    "### EVALUATION OF ENTITY LINKING OF WIKIFIER FROM PREDICTED LABELS\n",
    "First we query the Wikifier API to get the dbpedia iris and wikipedia urls of all the predicted food entities."
   ],
   "metadata": {
    "collapsed": false
   }
  },
  {
   "cell_type": "code",
   "execution_count": 7,
   "outputs": [],
   "source": [
    "# get the dbpedia iris and wikipedia urls of all the predicted food entities\n",
    "from wikifier import CallWikifier\n",
    "def queryWikifier():\n",
    "    data = []\n",
    "    for i in range(len(annotations)):\n",
    "        predicted_labels = ast.literal_eval(annotations['Food'][i])\n",
    "        for plabel in predicted_labels:\n",
    "            response = CallWikifier(plabel)\n",
    "            wiki_annotations = response[\"annotations\"]\n",
    "            dbpedia_iris = []\n",
    "            wiki_urls = []\n",
    "            for wannotation in wiki_annotations:\n",
    "                dbpedia_iri = wannotation[\"dbPediaIri\"]\n",
    "                wiki_url = wannotation[\"url\"]\n",
    "                wiki_urls.append(wiki_url)\n",
    "                dbpedia_iris.append(dbpedia_iri)\n",
    "            row = [annotations['Claim'][i], plabel, dbpedia_iris, wiki_urls]\n",
    "            data.append(row)\n",
    "    wikifier_annotations = pd.DataFrame(data, columns=['Claim', 'predicted_label','dbpedia_iris', 'wiki_urls'])\n",
    "    wikifier_annotations.to_csv('data/wiki_iris_predicted.csv', index=False)"
   ],
   "metadata": {
    "collapsed": false,
    "ExecuteTime": {
     "end_time": "2023-06-07T12:11:51.401974300Z",
     "start_time": "2023-06-07T12:11:51.393997800Z"
    }
   }
  },
  {
   "cell_type": "code",
   "execution_count": 8,
   "outputs": [
    {
     "name": "stdout",
     "output_type": "stream",
     "text": [
      "Number of unique food terms with fooDB ids 60\n",
      "Number of unique food terms with Wiki URLs 53\n"
     ]
    }
   ],
   "source": [
    "#Number of food terms with a Wikipedia URL\n",
    "print('Number of unique food terms with fooDB ids',len(df['Food Ontology Term'].unique()))\n",
    "print('Number of unique food terms with Wiki URLs',len(df['foodDB_wiki'].unique()))"
   ],
   "metadata": {
    "collapsed": false,
    "ExecuteTime": {
     "end_time": "2023-06-07T12:11:51.529637900Z",
     "start_time": "2023-06-07T12:11:51.404967900Z"
    }
   }
  },
  {
   "cell_type": "markdown",
   "source": [
    "Then we compare the urls from Wikifier to the wikipedia urls of the food entities in the processed_claims dataset. If the urls are the same, then the entity linking is correct. We calculate the precision, recall, and F1-score.\n",
    "\n",
    "Furthermore, we calculate the number of unique food terms correctly linked to a Wikipedia URL. We say that it is exact if the predicted Wikipedia URl is the same as the one in the dataset. We say it is partial if more than one Wikipedia pages were returned for that term and at least one of them is correct."
   ],
   "metadata": {
    "collapsed": false
   }
  },
  {
   "cell_type": "code",
   "execution_count": 9,
   "outputs": [
    {
     "name": "stdout",
     "output_type": "stream",
     "text": [
      "[[157, 82], [181, 0]]\n",
      "Precision:  0.46449704142011833\n",
      "Recall:  0.6569037656903766\n",
      "F1:  0.5441941074523398\n",
      "Unique terms exactly linked:  30\n",
      "Unique terms partially linked:  9\n"
     ]
    }
   ],
   "source": [
    "wiki_iris_predicted = pd.read_csv('data/wiki_iris_predicted.csv')\n",
    "def evaluateEL(dataf):\n",
    "    confusion_matrix = [[0,0],[0,0]]\n",
    "    exact_unique_wikis = []\n",
    "    nexact_unique_wikis = []\n",
    "    for i in range(len(df)):\n",
    "        true_labels = df['foodDB_wiki'][i]\n",
    "        if pd.isna(true_labels):\n",
    "            continue\n",
    "        true_labels = ast.literal_eval(true_labels)\n",
    "        predicted_labels = dataf[dataf['Claim'] == df['Claim'][i]]\n",
    "        for predicted_label in predicted_labels['wiki_urls']:\n",
    "            predicted_label = ast.literal_eval(predicted_label)\n",
    "            for tlabel in true_labels:\n",
    "                for plabel in predicted_label:\n",
    "                    if plabel == tlabel:\n",
    "                        if len(predicted_label) < 2:\n",
    "                            exact_unique_wikis.append(tlabel)\n",
    "                        else:\n",
    "                            nexact_unique_wikis.append(tlabel)\n",
    "                        confusion_matrix[0][0] += 1 # add to true positive\n",
    "                        true_labels.remove(tlabel)\n",
    "                        predicted_label.remove(plabel)\n",
    "            confusion_matrix[0][1] += len(true_labels) # add to false negative (unmatched true labels)\n",
    "            confusion_matrix[1][0] += len(predicted_label) # add to false positive (unmatched predicted labels)\n",
    "\n",
    "    precision = confusion_matrix[0][0]/(confusion_matrix[0][0]+confusion_matrix[1][0])\n",
    "    recall = confusion_matrix[0][0]/(confusion_matrix[0][0]+confusion_matrix[0][1])\n",
    "    f1 = 2*(precision*recall)/(precision+recall)\n",
    "    print(confusion_matrix)\n",
    "    print('Precision: ', precision)\n",
    "    print('Recall: ', recall)\n",
    "    print('F1: ',f1)\n",
    "    print('Unique terms exactly linked: ', len(Counter(exact_unique_wikis).keys()))\n",
    "    print('Unique terms partially linked: ', len(Counter(nexact_unique_wikis).keys()))\n",
    "evaluateEL(wiki_iris_predicted)"
   ],
   "metadata": {
    "collapsed": false,
    "ExecuteTime": {
     "end_time": "2023-06-07T12:11:51.619420400Z",
     "start_time": "2023-06-07T12:11:51.419926800Z"
    }
   }
  },
  {
   "cell_type": "markdown",
   "source": [],
   "metadata": {
    "collapsed": false
   }
  },
  {
   "cell_type": "markdown",
   "source": [
    "### EVALUATION OF ENTITY LINKING OF WIKIFIER FROM CLAIM\n",
    "In this approach the Wikifier API is called for each claim, and it annotates the relevant entities. Then the food terms are extracted by filtering the entities based on their dbepedia iris. If they are not of the type FOOD, CONDIMENT, BEVERAGE... they are removed.\n",
    "Finally, the wikipedia urls of the remaining entities are compared to the true urls."
   ],
   "metadata": {
    "collapsed": false
   }
  },
  {
   "cell_type": "code",
   "execution_count": 10,
   "outputs": [],
   "source": [
    "# Filter the predicted labels based on the dbpedia iris\n",
    "from SPARQLWrapper import SPARQLWrapper, JSON\n",
    "# get the dbpedia iris and wikipedia urls of claims\n",
    "def queryWikifier():\n",
    "    data = []\n",
    "    for i in range(len(df)):\n",
    "        claim = df['Claim'][i]\n",
    "        response = CallWikifier(claim)\n",
    "        wiki_annotations = response[\"annotations\"]\n",
    "        dbpedia_iris = []\n",
    "        wiki_urls = []\n",
    "        for wannotation in wiki_annotations:\n",
    "            dbpedia_iri = wannotation[\"dbPediaIri\"]\n",
    "            wiki_url = wannotation[\"url\"]\n",
    "            wiki_urls.append(wiki_url)\n",
    "            dbpedia_iris.append(dbpedia_iri)\n",
    "        row = [annotations['Claim'][i], dbpedia_iris, wiki_urls]\n",
    "        data.append(row)\n",
    "    wikifier_annotations = pd.DataFrame(data, columns=['Claim','dbpedia_iris', 'wiki_urls'])\n",
    "    wikifier_annotations.to_csv('data/wiki_iris.csv', index=False)"
   ],
   "metadata": {
    "collapsed": false,
    "ExecuteTime": {
     "end_time": "2023-06-07T12:11:51.650311200Z",
     "start_time": "2023-06-07T12:11:51.563542200Z"
    }
   }
  },
  {
   "cell_type": "code",
   "execution_count": 11,
   "outputs": [],
   "source": [
    "def queryDBpedia():\n",
    "    wiki_iris = pd.read_csv('data/wiki_iris.csv')\n",
    "\n",
    "    sparql = SPARQLWrapper(\"http://dbpedia.org/sparql\")\n",
    "    sparql.setReturnFormat(JSON)\n",
    "\n",
    "    for i in range(len(wiki_iris)):\n",
    "        entities = ast.literal_eval(wiki_iris[\"dbpedia_iris\"].iloc[i])\n",
    "        wiki_urls = ast.literal_eval(wiki_iris[\"wiki_urls\"].iloc[i])\n",
    "        for entity in entities:\n",
    "            query = f'''\n",
    "                ASK {{\n",
    "                {{<{entity}> rdf:type ?a.\n",
    "                ?a rdfs:subClassOf* dbo:Food}}\n",
    "                union\n",
    "                {{<{entity}> rdf:type ?b.\n",
    "                ?b rdfs:subClassOf* dbo:Condiment}}\n",
    "                union\n",
    "                {{<{entity}> rdf:type ?c.\n",
    "                ?c rdfs:subClassOf* dbo:Beverage}}\n",
    "                union\n",
    "                {{<{entity}> rdf:type ?d.\n",
    "                ?d rdfs:subClassOf* dbo:Plant}}\n",
    "                union\n",
    "                {{<{entity}> rdf:type ?e.\n",
    "                ?e rdfs:subClassOf* dbo:Animal}}\n",
    "                union\n",
    "                {{<{entity}> rdf:type ?f.\n",
    "                ?f rdfs:subClassOf* dbo:Fungus}}\n",
    "                union\n",
    "                {{<{entity}> rdf:type ?g.\n",
    "                ?g rdfs:subClassOf* dbo:ChemicalSubstance}}\n",
    "                }}\n",
    "            '''\n",
    "            sparql.setQuery(query)\n",
    "            results = sparql.query().convert()\n",
    "            isfood = results[\"boolean\"]\n",
    "            if  not isfood:\n",
    "                index = entities.index(entity)\n",
    "                entities.remove(entity)\n",
    "                wiki_urls.remove(wiki_urls[index])\n",
    "        print(wiki_urls)\n",
    "        wiki_iris[\"dbpedia_iris\"].iloc[i] = str(entities)\n",
    "        wiki_iris[\"wiki_urls\"].iloc[i] = str(wiki_urls)\n",
    "    wiki_iris.to_csv('data/wiki_iris.csv', index=False)"
   ],
   "metadata": {
    "collapsed": false,
    "ExecuteTime": {
     "end_time": "2023-06-07T12:11:51.651308100Z",
     "start_time": "2023-06-07T12:11:51.620391200Z"
    }
   }
  },
  {
   "cell_type": "code",
   "execution_count": 12,
   "outputs": [
    {
     "name": "stdout",
     "output_type": "stream",
     "text": [
      "[[104, 123], [208, 0]]\n",
      "Precision:  0.3333333333333333\n",
      "Recall:  0.4581497797356828\n",
      "F1:  0.38589981447124305\n",
      "Unique terms exactly linked:  19\n",
      "Unique terms partially linked:  15\n"
     ]
    }
   ],
   "source": [
    "wiki_iris = pd.read_csv('data/wiki_iris.csv')\n",
    "evaluateEL(wiki_iris)"
   ],
   "metadata": {
    "collapsed": false,
    "ExecuteTime": {
     "end_time": "2023-06-07T12:11:51.797915Z",
     "start_time": "2023-06-07T12:11:51.632362100Z"
    }
   }
  },
  {
   "cell_type": "markdown",
   "source": [
    "# EXTRACTION OF RELATIONSHIP TYPE"
   ],
   "metadata": {
    "collapsed": false
   }
  },
  {
   "cell_type": "markdown",
   "source": [
    "### PROMPT 1\n",
    "\n",
    "The predicted relations are the ones extracted at the beginning of the project in annotated_claims.csv. The relationships are mapped to the relations defined in the task (maintenance of a function, reducing a risk factor, enhancing of a function) with the exact wording."
   ],
   "metadata": {
    "collapsed": false
   }
  },
  {
   "cell_type": "code",
   "execution_count": 13,
   "outputs": [
    {
     "data": {
      "text/plain": "                                               Claim  \\\n0  ALA contributes to the maintenance of normal b...   \n1  Activated charcoal contributes to reducing exe...   \n2  Barley grain fibre contributes to an increase ...   \n3  Beta-glucans contribute to the maintenance of ...   \n4  Betaine contributes to normal homocysteine met...   \n\n                               Food                            Phenotype  \\\n0                           ['ALA']  ['normal blood cholesterol levels']   \n1  ['Activated charcoal', 'eating']              ['exessive flatulence']   \n2            ['Barley grain fibre']                      ['faecal bulk']   \n3                  ['Beta-glucans']  ['normal blood cholesterol levels']   \n4                       ['Betaine']          ['homocysteine metabolism']   \n\n           Health relationship  \n0  [Maintenance of a function]  \n1     [Reducing a risk factor]  \n2  [Maintenance of a function]  \n3  [Maintenance of a function]  \n4  [Maintenance of a function]  ",
      "text/html": "<div>\n<style scoped>\n    .dataframe tbody tr th:only-of-type {\n        vertical-align: middle;\n    }\n\n    .dataframe tbody tr th {\n        vertical-align: top;\n    }\n\n    .dataframe thead th {\n        text-align: right;\n    }\n</style>\n<table border=\"1\" class=\"dataframe\">\n  <thead>\n    <tr style=\"text-align: right;\">\n      <th></th>\n      <th>Claim</th>\n      <th>Food</th>\n      <th>Phenotype</th>\n      <th>Health relationship</th>\n    </tr>\n  </thead>\n  <tbody>\n    <tr>\n      <th>0</th>\n      <td>ALA contributes to the maintenance of normal b...</td>\n      <td>['ALA']</td>\n      <td>['normal blood cholesterol levels']</td>\n      <td>[Maintenance of a function]</td>\n    </tr>\n    <tr>\n      <th>1</th>\n      <td>Activated charcoal contributes to reducing exe...</td>\n      <td>['Activated charcoal', 'eating']</td>\n      <td>['exessive flatulence']</td>\n      <td>[Reducing a risk factor]</td>\n    </tr>\n    <tr>\n      <th>2</th>\n      <td>Barley grain fibre contributes to an increase ...</td>\n      <td>['Barley grain fibre']</td>\n      <td>['faecal bulk']</td>\n      <td>[Maintenance of a function]</td>\n    </tr>\n    <tr>\n      <th>3</th>\n      <td>Beta-glucans contribute to the maintenance of ...</td>\n      <td>['Beta-glucans']</td>\n      <td>['normal blood cholesterol levels']</td>\n      <td>[Maintenance of a function]</td>\n    </tr>\n    <tr>\n      <th>4</th>\n      <td>Betaine contributes to normal homocysteine met...</td>\n      <td>['Betaine']</td>\n      <td>['homocysteine metabolism']</td>\n      <td>[Maintenance of a function]</td>\n    </tr>\n  </tbody>\n</table>\n</div>"
     },
     "execution_count": 13,
     "metadata": {},
     "output_type": "execute_result"
    }
   ],
   "source": [
    "def map_items(df, column_name):\n",
    "    # Function to map items\n",
    "    def mapper(item):\n",
    "        if 'maintenance' in item:\n",
    "            return 'Maintenance of a function'\n",
    "        if 'contributes' in item:\n",
    "            return 'Maintenance of a function'\n",
    "        elif 'risk' in item:\n",
    "            return 'Reducing a risk factor'\n",
    "        elif 'enhancing' in item:\n",
    "            return 'Enhancing a function'\n",
    "        else:\n",
    "            return item\n",
    "    # Apply function to transform each cell in column\n",
    "    df[column_name] = df[column_name].apply(lambda x: [mapper(i) for i in ast.literal_eval(x)])\n",
    "    return df\n",
    "health_rel = annotations.copy()\n",
    "health_rel = map_items(health_rel, 'Health relationship')\n",
    "health_rel.head()"
   ],
   "metadata": {
    "collapsed": false,
    "ExecuteTime": {
     "end_time": "2023-06-07T12:11:51.902635100Z",
     "start_time": "2023-06-07T12:11:51.813873Z"
    }
   }
  },
  {
   "cell_type": "code",
   "execution_count": 14,
   "outputs": [
    {
     "name": "stdout",
     "output_type": "stream",
     "text": [
      "Maintenance of a function\n",
      "[[138, 60], [69, 0]]\n",
      "Precision:  0.6666666666666666\n",
      "Recall:  0.696969696969697\n",
      "F1:  0.6814814814814815\n",
      "Reducing a risk factor\n",
      "[[27, 13], [28, 0]]\n",
      "Precision:  0.4909090909090909\n",
      "Recall:  0.675\n",
      "F1:  0.5684210526315789\n",
      "Enhancing a function\n",
      "[[15, 32], [47, 0]]\n",
      "Precision:  0.24193548387096775\n",
      "Recall:  0.3191489361702128\n",
      "F1:  0.27522935779816515\n",
      "Overall\n",
      "[[180, 105], [144, 0]]\n",
      "Precision:  0.5555555555555556\n",
      "Recall:  0.631578947368421\n",
      "F1:  0.5911330049261083\n"
     ]
    }
   ],
   "source": [
    "def evaluateRE(rel_df,column_name):\n",
    "    A = [[0,0],[0,0]]\n",
    "    B = [[0,0],[0,0]]\n",
    "    C = [[0,0],[0,0]]\n",
    "    for i in range(len(df)):\n",
    "        true_rel = df['Relationship-effect'][i]\n",
    "        pred_rels = rel_df[column_name][i]\n",
    "        for pred_rel in pred_rels:\n",
    "            matched = 0\n",
    "            # if the true label is matched then is a true positive\n",
    "            if true_rel == pred_rel:\n",
    "                if true_rel == 'Maintenance of a function':\n",
    "                    A[0][0] += 1\n",
    "                    matched = 1\n",
    "                elif true_rel == 'Reducing a risk factor':\n",
    "                    B[0][0] += 1\n",
    "                    matched = 1\n",
    "                elif true_rel == 'Enhancing a function':\n",
    "                    C[0][0] += 1\n",
    "                    matched = 1\n",
    "            # if the predicted label is wrong then it is a false positive\n",
    "            else:\n",
    "                if true_rel == 'Maintenance of a function':\n",
    "                    A[1][0] += 1\n",
    "                elif true_rel == 'Reducing a risk factor':\n",
    "                    B[1][0] += 1\n",
    "                elif true_rel == 'Enhancing a function':\n",
    "                    C[1][0] += 1\n",
    "        # if the true label is not matched by any predicted label then it is a false negative\n",
    "        if matched == 0:\n",
    "            if true_rel == 'Maintenance of a function':\n",
    "                A[0][1] += 1\n",
    "            elif true_rel == 'Reducing a risk factor':\n",
    "                B[0][1] += 1\n",
    "            elif true_rel == 'Enhancing a function':\n",
    "                C[0][1] += 1\n",
    "\n",
    "    precisionA = A[0][0]/(A[0][0]+A[1][0])\n",
    "    recallA = A[0][0]/(A[0][0]+A[0][1])\n",
    "    f1A = 2*(precisionA*recallA)/(precisionA+recallA)\n",
    "    print('Maintenance of a function')\n",
    "    print(A)\n",
    "    print('Precision: ', precisionA)\n",
    "    print('Recall: ', recallA)\n",
    "    print('F1: ',f1A)\n",
    "\n",
    "    precisionB = B[0][0]/(B[0][0]+B[1][0])\n",
    "    recallB = B[0][0]/(B[0][0]+B[0][1])\n",
    "    f1B = 2*(precisionB*recallB)/(precisionB+recallB)\n",
    "    print('Reducing a risk factor')\n",
    "    print(B)\n",
    "    print('Precision: ', precisionB)\n",
    "    print('Recall: ', recallB)\n",
    "    print('F1: ',f1B)\n",
    "\n",
    "    precisionC = C[0][0]/(C[0][0]+C[1][0])\n",
    "    recallC = C[0][0]/(C[0][0]+C[0][1])\n",
    "    f1C = 2*(precisionC*recallC)/(precisionC+recallC)\n",
    "    print('Enhancing a function')\n",
    "    print(C)\n",
    "    print('Precision: ', precisionC)\n",
    "    print('Recall: ', recallC)\n",
    "    print('F1: ',f1C)\n",
    "\n",
    "    overall_tp = A[0][0]+B[0][0]+C[0][0]\n",
    "    overall_fn = A[0][1]+B[0][1]+C[0][1]\n",
    "    overall_fp = A[1][0]+B[1][0]+C[1][0]\n",
    "    overall_precision = overall_tp/(overall_tp+overall_fp)\n",
    "    overall_recall = overall_tp/(overall_tp+overall_fn)\n",
    "    overall_f1 = 2*(overall_precision*overall_recall)/(overall_precision+overall_recall)\n",
    "    print('Overall')\n",
    "    print([[overall_tp,overall_fn],[overall_fp,0]])\n",
    "    print('Precision: ', overall_precision)\n",
    "    print('Recall: ', overall_recall)\n",
    "    print('F1: ',overall_f1)\n",
    "evaluateRE(health_rel, 'Health relationship')"
   ],
   "metadata": {
    "collapsed": false,
    "ExecuteTime": {
     "end_time": "2023-06-07T12:11:51.966464300Z",
     "start_time": "2023-06-07T12:11:51.842811300Z"
    }
   }
  },
  {
   "cell_type": "markdown",
   "source": [
    "### PROMPT 2"
   ],
   "metadata": {
    "collapsed": false
   }
  },
  {
   "cell_type": "markdown",
   "source": [
    "Now we will use a different prompt. First we annotate the relations using the prompt:"
   ],
   "metadata": {
    "collapsed": false
   }
  },
  {
   "cell_type": "code",
   "execution_count": 15,
   "outputs": [
    {
     "data": {
      "text/plain": "                                               Claim                      Rel\n0  ALA contributes to the maintenance of normal b...  maintenance of function\n1  Activated charcoal contributes to reducing exe...   reducing a risk factor\n2  Barley grain fibre contributes to an increase ...     enhancing a function\n3  Beta-glucans contribute to the maintenance of ...  maintenance of function\n4  Betaine contributes to normal homocysteine met...     enhancing a function",
      "text/html": "<div>\n<style scoped>\n    .dataframe tbody tr th:only-of-type {\n        vertical-align: middle;\n    }\n\n    .dataframe tbody tr th {\n        vertical-align: top;\n    }\n\n    .dataframe thead th {\n        text-align: right;\n    }\n</style>\n<table border=\"1\" class=\"dataframe\">\n  <thead>\n    <tr style=\"text-align: right;\">\n      <th></th>\n      <th>Claim</th>\n      <th>Rel</th>\n    </tr>\n  </thead>\n  <tbody>\n    <tr>\n      <th>0</th>\n      <td>ALA contributes to the maintenance of normal b...</td>\n      <td>maintenance of function</td>\n    </tr>\n    <tr>\n      <th>1</th>\n      <td>Activated charcoal contributes to reducing exe...</td>\n      <td>reducing a risk factor</td>\n    </tr>\n    <tr>\n      <th>2</th>\n      <td>Barley grain fibre contributes to an increase ...</td>\n      <td>enhancing a function</td>\n    </tr>\n    <tr>\n      <th>3</th>\n      <td>Beta-glucans contribute to the maintenance of ...</td>\n      <td>maintenance of function</td>\n    </tr>\n    <tr>\n      <th>4</th>\n      <td>Betaine contributes to normal homocysteine met...</td>\n      <td>enhancing a function</td>\n    </tr>\n  </tbody>\n</table>\n</div>"
     },
     "execution_count": 15,
     "metadata": {},
     "output_type": "execute_result"
    }
   ],
   "source": [
    "import requests\n",
    "import json\n",
    "\n",
    "def annotateClaimsKGREL():\n",
    "    url = 'https://api.collaboratory.semanticscience.org/openai-extract'\n",
    "    headers = {'content-type': 'application/json'}\n",
    "    params = {'prompt':'From the text below, classify the text as: (maintenance of function, enhancing a function, reducing a risk factor). Return the results as a YAML object with the following fields: - relation: the type of relation (maintenance of function, enhancing a function, reducing a risk factor)'}\n",
    "\n",
    "    annot = []\n",
    "    for i in range(0,len(df)):\n",
    "        while True:\n",
    "            data = {\n",
    "                'text': df['Claim'][i]\n",
    "            }\n",
    "            response = requests.post(url, params=params, data=json.dumps(data), headers=headers)\n",
    "            print(response)\n",
    "            try:\n",
    "                response = response.json()\n",
    "                print(response['relation'])\n",
    "                health_relationships = response\n",
    "                row = [df['Claim'][i],health_relationships['relation']]\n",
    "                annot.append(row)\n",
    "                break\n",
    "            except:\n",
    "                pass\n",
    "    annotations = pd.DataFrame(annot, columns=['Claim', 'Rel'])\n",
    "    annotations.to_csv('data/relations.csv', index=False)\n",
    "relations = pd.read_csv('data/relations.csv')\n",
    "#relations['Rel'] = relations['Rel'].apply(lambda x: ast.literal_eval(x)[0]['predicate'])\n",
    "relations.head()"
   ],
   "metadata": {
    "collapsed": false,
    "ExecuteTime": {
     "end_time": "2023-06-07T12:11:51.989403Z",
     "start_time": "2023-06-07T12:11:51.883686600Z"
    }
   }
  },
  {
   "cell_type": "markdown",
   "source": [
    "Then we want to map all the relations to the relations defined in the task (maintenance of a function, reducing a risk factor, enhancing of a function) with the exact wording."
   ],
   "metadata": {
    "collapsed": false
   }
  },
  {
   "cell_type": "code",
   "execution_count": 16,
   "outputs": [
    {
     "data": {
      "text/plain": "                                               Claim  \\\n0  ALA contributes to the maintenance of normal b...   \n1  Activated charcoal contributes to reducing exe...   \n2  Barley grain fibre contributes to an increase ...   \n3  Beta-glucans contribute to the maintenance of ...   \n4  Betaine contributes to normal homocysteine met...   \n\n                           Rel  \n0  [Maintenance of a function]  \n1     [Reducing a risk factor]  \n2       [Enhancing a function]  \n3  [Maintenance of a function]  \n4       [Enhancing a function]  ",
      "text/html": "<div>\n<style scoped>\n    .dataframe tbody tr th:only-of-type {\n        vertical-align: middle;\n    }\n\n    .dataframe tbody tr th {\n        vertical-align: top;\n    }\n\n    .dataframe thead th {\n        text-align: right;\n    }\n</style>\n<table border=\"1\" class=\"dataframe\">\n  <thead>\n    <tr style=\"text-align: right;\">\n      <th></th>\n      <th>Claim</th>\n      <th>Rel</th>\n    </tr>\n  </thead>\n  <tbody>\n    <tr>\n      <th>0</th>\n      <td>ALA contributes to the maintenance of normal b...</td>\n      <td>[Maintenance of a function]</td>\n    </tr>\n    <tr>\n      <th>1</th>\n      <td>Activated charcoal contributes to reducing exe...</td>\n      <td>[Reducing a risk factor]</td>\n    </tr>\n    <tr>\n      <th>2</th>\n      <td>Barley grain fibre contributes to an increase ...</td>\n      <td>[Enhancing a function]</td>\n    </tr>\n    <tr>\n      <th>3</th>\n      <td>Beta-glucans contribute to the maintenance of ...</td>\n      <td>[Maintenance of a function]</td>\n    </tr>\n    <tr>\n      <th>4</th>\n      <td>Betaine contributes to normal homocysteine met...</td>\n      <td>[Enhancing a function]</td>\n    </tr>\n  </tbody>\n</table>\n</div>"
     },
     "execution_count": 16,
     "metadata": {},
     "output_type": "execute_result"
    }
   ],
   "source": [
    "relations.loc[relations['Rel'].str.contains('maintenance', case=False), 'Rel'] = 'Maintenance of a function'\n",
    "relations.loc[relations['Rel'].str.contains('risk', case=False), 'Rel'] = 'Reducing a risk factor'\n",
    "relations.loc[relations['Rel'].str.contains('enhancing', case=False), 'Rel'] = 'Enhancing a function'\n",
    "relations['Rel'] = relations['Rel'].apply(lambda x: [x])\n",
    "relations.head()"
   ],
   "metadata": {
    "collapsed": false,
    "ExecuteTime": {
     "end_time": "2023-06-07T12:11:52.078204400Z",
     "start_time": "2023-06-07T12:11:51.912609500Z"
    }
   }
  },
  {
   "cell_type": "markdown",
   "source": [
    "Now we evaluate the model"
   ],
   "metadata": {
    "collapsed": false
   }
  },
  {
   "cell_type": "code",
   "execution_count": 17,
   "outputs": [
    {
     "name": "stdout",
     "output_type": "stream",
     "text": [
      "Maintenance of a function\n",
      "[[148, 36], [36, 0]]\n",
      "Precision:  0.8043478260869565\n",
      "Recall:  0.8043478260869565\n",
      "F1:  0.8043478260869565\n",
      "Reducing a risk factor\n",
      "[[23, 10], [10, 0]]\n",
      "Precision:  0.696969696969697\n",
      "Recall:  0.696969696969697\n",
      "F1:  0.696969696969697\n",
      "Enhancing a function\n",
      "[[22, 18], [18, 0]]\n",
      "Precision:  0.55\n",
      "Recall:  0.55\n",
      "F1:  0.55\n",
      "Overall\n",
      "[[193, 64], [64, 0]]\n",
      "Precision:  0.7509727626459144\n",
      "Recall:  0.7509727626459144\n",
      "F1:  0.7509727626459144\n"
     ]
    }
   ],
   "source": [
    "evaluateRE(relations, 'Rel')"
   ],
   "metadata": {
    "collapsed": false,
    "ExecuteTime": {
     "end_time": "2023-06-07T12:11:52.112115300Z",
     "start_time": "2023-06-07T12:11:51.947516300Z"
    }
   }
  },
  {
   "cell_type": "code",
   "execution_count": 17,
   "outputs": [],
   "source": [],
   "metadata": {
    "collapsed": false,
    "ExecuteTime": {
     "end_time": "2023-06-07T12:11:52.112115300Z",
     "start_time": "2023-06-07T12:11:51.966464300Z"
    }
   }
  }
 ],
 "metadata": {
  "kernelspec": {
   "display_name": "Python 3",
   "language": "python",
   "name": "python3"
  },
  "language_info": {
   "codemirror_mode": {
    "name": "ipython",
    "version": 2
   },
   "file_extension": ".py",
   "mimetype": "text/x-python",
   "name": "python",
   "nbconvert_exporter": "python",
   "pygments_lexer": "ipython2",
   "version": "2.7.6"
  }
 },
 "nbformat": 4,
 "nbformat_minor": 0
}
